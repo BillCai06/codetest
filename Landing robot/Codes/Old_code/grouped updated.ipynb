{
 "cells": [
  {
   "cell_type": "code",
   "execution_count": 1,
   "metadata": {},
   "outputs": [],
   "source": [
    "import numpy as np\n",
    "import matplotlib.pyplot as plt\n",
    "from sklearn.cluster import KMeans\n",
    "import numpy as np\n",
    "import matplotlib.pyplot as plt\n",
    "\n",
    "\n",
    "# Generating random data\n",
    "np.random.seed(1)\n",
    "points = np.random.rand(6, 2)\n",
    "data = points*10\n",
    "threshold =5\n",
    "l = 0.5\n",
    "b =0.2 "
   ]
  },
  {
   "cell_type": "markdown",
   "metadata": {},
   "source": [
    "The current approach uses a two-phase union-find strategy. In the first phase, it groups points based on a fixed threshold, and in the second phase, it refines these groupings based on an adjusted threshold that considers the number of points in a group and the average distance between them."
   ]
  },
  {
   "cell_type": "code",
   "execution_count": 2,
   "metadata": {},
   "outputs": [],
   "source": [
    "def average_distance(group, data):\n",
    "    # print(group)\n",
    "    n = len(group)\n",
    "    # print(group)\n",
    "    if n == 1:  # if there's only one point in the group\n",
    "        return 0\n",
    "    total_distance = sum(np.linalg.norm(data[group[i]] - data[group[j]]) for i in range(n) for j in range(n) if i != j)\n",
    "    # print(total_distance)\n",
    "    return total_distance / (n * (n - 1))\n",
    "\n",
    "class UnionFind:\n",
    "    def __init__(self, n):\n",
    "        self.parent = list(range(n))\n",
    "        self.rank = [0] * n\n",
    "        \n",
    "    def find(self, x):\n",
    "        if self.parent[x] != x:\n",
    "            self.parent[x] = self.find(self.parent[x])\n",
    "        return self.parent[x]\n",
    "    \n",
    "    def union(self, x, y):\n",
    "        rootX = self.find(x)\n",
    "        rootY = self.find(y)\n",
    "        \n",
    "        if rootX != rootY:\n",
    "            if self.rank[rootX] > self.rank[rootY]:\n",
    "                self.parent[rootY] = rootX\n",
    "            else:\n",
    "                self.parent[rootX] = rootY\n",
    "                if self.rank[rootX] == self.rank[rootY]:\n",
    "                    self.rank[rootY] += 1"
   ]
  },
  {
   "cell_type": "code",
   "execution_count": 3,
   "metadata": {},
   "outputs": [],
   "source": [
    "# Phase 1: Initial Group Formation using only the threshold\n",
    "dsu_phase1 = UnionFind(len(data))\n",
    "\n",
    "for i in range(len(data)):\n",
    "    for j in range(i+1, len(data)):\n",
    "        if np.linalg.norm(data[i] - data[j]) < threshold:\n",
    "            dsu_phase1.union(i, j)\n",
    "\n",
    "# Extract the preliminary groups from Phase 1\n",
    "groups_phase1 = {}\n",
    "for i in range(len(data)):\n",
    "    root = dsu_phase1.find(i)\n",
    "    if root not in groups_phase1:\n",
    "        groups_phase1[root] = []\n",
    "    groups_phase1[root].append(i)\n",
    "preliminary_groups = list(groups_phase1.values())"
   ]
  },
  {
   "cell_type": "code",
   "execution_count": 4,
   "metadata": {},
   "outputs": [
    {
     "data": {
      "text/plain": [
       "[[0, 1, 2, 3, 4, 5]]"
      ]
     },
     "execution_count": 4,
     "metadata": {},
     "output_type": "execute_result"
    }
   ],
   "source": [
    "preliminary_groups"
   ]
  },
  {
   "cell_type": "code",
   "execution_count": 5,
   "metadata": {},
   "outputs": [],
   "source": [
    "group_thresholds = {}\n",
    "for group in preliminary_groups:\n",
    "    avg_dist = average_distance(group, data)\n",
    "    group_thresholds[tuple(group)] = threshold - l * (len(group) - 1) - b * avg_dist\n"
   ]
  },
  {
   "cell_type": "code",
   "execution_count": 6,
   "metadata": {},
   "outputs": [
    {
     "data": {
      "text/plain": [
       "[[0, 4, 5], [1], [2], [3]]"
      ]
     },
     "execution_count": 6,
     "metadata": {},
     "output_type": "execute_result"
    }
   ],
   "source": [
    "# Phase 2: Refinement using preliminary groups to adjust the threshold\n",
    "dsu_phase2 = UnionFind(len(data))\n",
    "\n",
    "# Using the adjusted threshold to perform the union operation for all points\n",
    "for i in range(len(data)):\n",
    "    for j in range(i+1, len(data)):\n",
    "        # Getting the adjusted threshold for the group to which 'i' belongs in Phase 1\n",
    "        i_root_phase1 = dsu_phase1.find(i)\n",
    "        # Find the group in Phase 1 to which 'i' belongs\n",
    "        i_group_phase1 = next(group for group in groups_phase1.values() if i_root_phase1 in group)\n",
    "        adjusted_threshold = group_thresholds[tuple(i_group_phase1)]\n",
    "\n",
    "        if np.linalg.norm(data[i] - data[j]) < adjusted_threshold:\n",
    "            dsu_phase2.union(i, j)\n",
    "\n",
    "# Extract the refined groups from Phase 2\n",
    "groups_phase2_corrected = {}\n",
    "for i in range(len(data)):\n",
    "    root = dsu_phase2.find(i)\n",
    "    if root not in groups_phase2_corrected:\n",
    "        groups_phase2_corrected[root] = []\n",
    "    groups_phase2_corrected[root].append(i)\n",
    "refined_groups_corrected = list(groups_phase2_corrected.values())\n",
    "\n",
    "refined_groups_corrected\n"
   ]
  },
  {
   "cell_type": "code",
   "execution_count": 7,
   "metadata": {},
   "outputs": [
    {
     "data": {
      "image/png": "[encoded data removed]",
      "text/plain": [
       "<Figure size 1000x800 with 1 Axes>"
      ]
     },
     "metadata": {},
     "output_type": "display_data"
    }
   ],
   "source": [
    "group_centers = [np.mean(data[group], axis=0) for group in refined_groups_corrected]\n",
    "plt.figure(figsize=(10, 8))\n",
    "\n",
    "plt.scatter(data[:, 0], data[:, 1], c='red', s=50)\n",
    "# plt.scatter(data[:, 0], data[:, 1], c='red', s=50)\n",
    "for group in refined_groups_corrected:\n",
    "    plt.plot(data[group][:, 0], data[group][:, 1], 'b-')\n",
    "plt.scatter(np.array(group_centers)[:, 0], np.array(group_centers)[:, 1], c='green', s=100, marker='x')\n",
    "plt.title(\"Efficiently Grouped Points and Their Centers\")\n",
    "plt.xlabel(\"X-coordinate\")\n",
    "plt.ylabel(\"Y-coordinate\")\n",
    "plt.show()"
   ]
  },
  {
   "cell_type": "code",
   "execution_count": 8,
   "metadata": {},
   "outputs": [
    {
     "data": {
      "text/plain": [
       "array([[4.17022005e+00, 7.20324493e+00],\n",
       "       [1.14374817e-03, 3.02332573e+00],\n",
       "       [1.46755891e+00, 9.23385948e-01],\n",
       "       [1.86260211e+00, 3.45560727e+00],\n",
       "       [3.96767474e+00, 5.38816734e+00],\n",
       "       [4.19194514e+00, 6.85219500e+00]])"
      ]
     },
     "execution_count": 8,
     "metadata": {},
     "output_type": "execute_result"
    }
   ],
   "source": [
    "data"
   ]
  },
  {
   "cell_type": "markdown",
   "metadata": {},
   "source": [
    "iterative Code below:"
   ]
  },
  {
   "cell_type": "code",
   "execution_count": 9,
   "metadata": {},
   "outputs": [],
   "source": [
    "def form_groups_using_adjusted_thresholds(data, group_thresholds, initial_threshold, l, b):\n",
    "    dsu = UnionFind(len(data))\n",
    "\n",
    "    for i in range(len(data)):\n",
    "        for j in range(i+1, len(data)):\n",
    "            # Determine which threshold to use (whichever is smaller)\n",
    "            t_i = group_thresholds.get(dsu.find(i), initial_threshold)\n",
    "            t_j = group_thresholds.get(dsu.find(j), initial_threshold)\n",
    "            effective_threshold = min(t_i, t_j)\n",
    "\n",
    "            if np.linalg.norm(data[i] - data[j]) < effective_threshold:\n",
    "                dsu.union(i, j)\n",
    "\n",
    "    # Extract groups and refine their thresholds\n",
    "    groups = {}\n",
    "    new_group_thresholds = {}\n",
    "    for i in range(len(data)):\n",
    "        root = dsu.find(i)\n",
    "        if root not in groups:\n",
    "            groups[root] = []\n",
    "        groups[root].append(i)\n",
    "    \n",
    "    for group in groups.values():\n",
    "        avg_dist = average_distance(group, data)\n",
    "        new_group_thresholds[dsu.find(group[0])] = initial_threshold - l * (len(group) - 1) - b * avg_dist\n",
    "\n",
    "    return list(groups.values()), new_group_thresholds\n"
   ]
  },
  {
   "cell_type": "code",
   "execution_count": 10,
   "metadata": {},
   "outputs": [
    {
     "data": {
      "text/plain": [
       "[[0, 5], [1], [2], [3], [4]]"
      ]
     },
     "execution_count": 10,
     "metadata": {},
     "output_type": "execute_result"
    }
   ],
   "source": [
    "# Adjusting the iterative grouping function to pass the initial_threshold\n",
    "def iterative_grouping_using_adjusted_thresholds(data, threshold, l, b, max_iterations=10):\n",
    "    group_thresholds = {i: threshold for i in range(len(data))}\n",
    "    previous_groups = None\n",
    "    iterations = 0\n",
    "\n",
    "    while iterations < max_iterations:\n",
    "        current_groups, group_thresholds = form_groups_using_adjusted_thresholds(data, group_thresholds, threshold, l, b)\n",
    "        \n",
    "        # Check if groups have stabilized\n",
    "        if current_groups == previous_groups:\n",
    "            break\n",
    "\n",
    "        previous_groups = current_groups\n",
    "        iterations += 1\n",
    "\n",
    "    return current_groups\n",
    "\n",
    "# Apply the iterative grouping approach on the data with the adjusted parameters\n",
    "final_groups_adjusted_approach = iterative_grouping_using_adjusted_thresholds(data, adjusted_threshold, l, b)\n",
    "final_groups_adjusted_approach\n"
   ]
  },
  {
   "cell_type": "code",
   "execution_count": 11,
   "metadata": {},
   "outputs": [
    {
     "data": {
      "image/png": "[encoded data removed]",
      "text/plain": [
       "<Figure size 1000x800 with 1 Axes>"
      ]
     },
     "metadata": {},
     "output_type": "display_data"
    }
   ],
   "source": [
    "group_centers = [np.mean(data[group], axis=0) for group in final_groups_adjusted_approach]\n",
    "plt.figure(figsize=(10, 8))\n",
    "\n",
    "plt.scatter(data[:, 0], data[:, 1], c='red', s=50)\n",
    "# plt.scatter(data[:, 0], data[:, 1], c='red', s=50)\n",
    "for group in final_groups_adjusted_approach:\n",
    "    plt.plot(data[group][:, 0], data[group][:, 1], 'b-')\n",
    "plt.scatter(np.array(group_centers)[:, 0], np.array(group_centers)[:, 1], c='green', s=100, marker='x')\n",
    "plt.title(\"Efficiently Grouped Points and Their Centers\")\n",
    "plt.xlabel(\"X-coordinate\")\n",
    "plt.ylabel(\"Y-coordinate\")\n",
    "plt.show()"
   ]
  }
 ],
 "metadata": {
  "kernelspec": {
   "display_name": "Python 3",
   "language": "python",
   "name": "python3"
  },
  "language_info": {
   "codemirror_mode": {
    "name": "ipython",
    "version": 3
   },
   "file_extension": ".py",
   "mimetype": "text/x-python",
   "name": "python",
   "nbconvert_exporter": "python",
   "pygments_lexer": "ipython3",
   "version": "3.10.6"
  },
  "orig_nbformat": 4
 },
 "nbformat": 4,
 "nbformat_minor": 2
}
