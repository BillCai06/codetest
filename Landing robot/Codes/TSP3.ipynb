{
 "cells": [
  {
   "cell_type": "code",
   "execution_count": 15,
   "metadata": {},
   "outputs": [],
   "source": [
    "import random\n",
    "import numpy as np\n",
    "import matplotlib.pyplot as plt\n",
    "from ortools.constraint_solver import routing_enums_pb2, pywrapcp\n",
    "\n",
    "def create_data_model(waypoints):\n",
    "    \"\"\"Create the data model for the TSP.\"\"\"\n",
    "    return {\n",
    "        'distance_matrix': compute_distance_matrix(waypoints),\n",
    "        'num_vehicles': 1,\n",
    "        'depot': 0\n",
    "    }\n",
    "\n",
    "def compute_distance_matrix(waypoints):\n",
    "    \"\"\"Compute the distance matrix for the given waypoints.\"\"\"\n",
    "    def distance(p1, p2):\n",
    "        return int(np.linalg.norm(np.array(p1) - np.array(p2)))\n",
    "    return [[distance(p1, p2) for p2 in waypoints] for p1 in waypoints]\n",
    "\n",
    "def print_solution(manager, routing, solution):\n",
    "    \"\"\"Print the TSP solution.\"\"\"\n",
    "    print('TSP Distance: {} miles'.format(solution.ObjectiveValue()))\n",
    "    index = routing.Start(0)\n",
    "    plan_output = 'Route for vehicle 0:\\n'\n",
    "    while not routing.IsEnd(index):\n",
    "        plan_output += ' {} ->'.format(manager.IndexToNode(index))\n",
    "        previous_index = index\n",
    "        index = solution.Value(routing.NextVar(index))\n",
    "        print(solution.Valuerouting.NextVar(index))\n",
    "    plan_output += ' {}\\n'.format(manager.IndexToNode(index))\n",
    "    print(plan_output)\n",
    "    return plan_output\n",
    "\n",
    "def angle_between_points(p1, p2):\n",
    "    \"\"\"Calculate the angle between two points.\"\"\"\n",
    "    return np.arctan2(p2[1] - p1[1], p2[0] - p1[0])\n",
    "\n",
    "def point_on_circle(center, angle, radius):\n",
    "    \"\"\"Calculate the point on a circle given center, angle, and radius.\"\"\"\n",
    "    x = center[0] + radius * np.cos(angle)\n",
    "    y = center[1] + radius * np.sin(angle)\n",
    "    return (x, y)\n",
    "\n",
    "def draw_circle(ax, center, radius):\n",
    "    \"\"\"Draw a circle on the given axes.\"\"\"\n",
    "    circle = plt.Circle(center, radius, color='b', fill=False)\n",
    "    ax.add_artist(circle)"
   ]
  },
  {
   "cell_type": "code",
   "execution_count": 2,
   "metadata": {},
   "outputs": [],
   "source": [
    "def plot_solution(waypoints, plan_output, radius):\n",
    "    \"\"\"Plot the TSP solution.\"\"\"\n",
    "    ordered_points = [waypoints[int(node)] for node in plan_output.split() if node.isdigit()]\n",
    "    ordered_points.append(ordered_points[0])\n",
    "\n",
    "    fig, ax = plt.subplots(figsize=(10, 6))\n",
    "    ax.scatter(*zip(*ordered_points))\n",
    "\n",
    "    for i, point in enumerate(ordered_points[:-1]):\n",
    "        plt.annotate(i, (point[0] + 0.5, point[1] + 0.5))\n",
    "        if i > 0 and i < len(ordered_points) - 2:  # Exclude start and end points from circles\n",
    "            draw_circle(ax, point, radius)\n",
    "\n",
    "    new_path = [ordered_points[0]]\n",
    "    for i in range(1, len(ordered_points) - 2):\n",
    "        # calculate angle and chords for the current waypoint\n",
    "        angle = angle_between_points(ordered_points[i-1], ordered_points[i])\n",
    "        nextangle = angle_between_points(ordered_points[i], ordered_points[i+1])\n",
    "        chord_start = point_on_circle(ordered_points[i], angle - np.pi , radius)\n",
    "        chord_end = point_on_circle(ordered_points[i], nextangle , radius)\n",
    "\n",
    "        # calculate the chord for the previous waypoint\n",
    "        prev_angle = angle_between_points(ordered_points[i - 2] if i > 1 else ordered_points[0], ordered_points[i-1])\n",
    "        prev_chord_end = point_on_circle(ordered_points[i-1], prev_angle + np.pi / 2, radius)\n",
    "\n",
    "        # add the point on the current waypoint's circle that is closest to the previous waypoint\n",
    "        if np.linalg.norm(np.array(chord_start) - np.array(prev_chord_end)) < np.linalg.norm(np.array(chord_end) - np.array(prev_chord_end)):\n",
    "            new_path.extend([chord_start, chord_end])\n",
    "            ax.plot(*zip(*[chord_start, chord_end]), 'r-')  # visualize the chord\n",
    "        else:\n",
    "            new_path.extend([chord_end, chord_start])\n",
    "            ax.plot(*zip(*[chord_end, chord_start]), 'r-')  # visualize the chord\n",
    "\n",
    "    # add the ending point\n",
    "    new_path.append(ordered_points[-1])\n",
    "    total_distance = sum(np.linalg.norm(np.array(new_path[i]) - np.array(new_path[i+1])) for i in range(len(new_path) - 1))\n",
    "    print(f\"Total distance of new path: {total_distance:.2f}\")\n",
    "    ax.plot(*zip(*new_path), linestyle='-', marker='o')\n",
    "    plt.xlabel('X')\n",
    "    plt.ylabel('Y')\n",
    "    plt.title('TSP Solution')\n",
    "    plt.grid()\n",
    "    plt.axis('equal')\n",
    "    plt.show()\n",
    "    return total_distance"
   ]
  },
  {
   "cell_type": "code",
   "execution_count": 18,
   "metadata": {},
   "outputs": [],
   "source": [
    "def distance_callback(from_index, to_index, manager, distance_matrix):\n",
    "    \"\"\"Callback function to get the distance between two points.\"\"\"\n",
    "    from_node = manager.IndexToNode(from_index)\n",
    "    to_node = manager.IndexToNode(to_index)\n",
    "    return distance_matrix[from_node][to_node]\n",
    "\n",
    "def main(waypoints, radius=5):\n",
    "    \"\"\"Solve the TSP for the given waypoints.\"\"\"\n",
    "    data = create_data_model(waypoints)\n",
    "    \n",
    "    # Create routing manager and model\n",
    "    manager = pywrapcp.RoutingIndexManager(len(data['distance_matrix']),\n",
    "                                           data['num_vehicles'], data['depot'])\n",
    "    routing = pywrapcp.RoutingModel(manager)\n",
    "    \n",
    "    # Register the distance callback\n",
    "    transit_callback_index = routing.RegisterTransitCallback(\n",
    "        lambda from_index, to_index: distance_callback(from_index, to_index, manager, data['distance_matrix']))\n",
    "    \n",
    "    # Set arc cost evaluator for all vehicles\n",
    "    routing.SetArcCostEvaluatorOfAllVehicles(transit_callback_index)\n",
    "    \n",
    "    # Set search parameters\n",
    "    search_parameters = pywrapcp.DefaultRoutingSearchParameters()\n",
    "    search_parameters.first_solution_strategy = (\n",
    "        routing_enums_pb2.FirstSolutionStrategy.PATH_CHEAPEST_ARC)\n",
    "    \n",
    "    # Solve the TSP\n",
    "    solution = routing.SolveWithParameters(search_parameters)\n",
    "    if solution:\n",
    "        plan_output = print_solution(manager, routing, solution)\n",
    "        plot_solution_fixed(waypoints, plan_output, radius)\n",
    "        return plan_output\n",
    "    return None\n"
   ]
  },
  {
   "cell_type": "code",
   "execution_count": null,
   "metadata": {},
   "outputs": [],
   "source": []
  },
  {
   "cell_type": "code",
   "execution_count": 19,
   "metadata": {},
   "outputs": [],
   "source": [
    "def plot_solution_fixed(waypoints, plan_output, radius):\n",
    "    \"\"\"Plot the TSP solution with the chord connection bug fixed.\"\"\"\n",
    "    ordered_points = [waypoints[int(node)] for node in plan_output.split() if node.isdigit()]\n",
    "    ordered_points.append(ordered_points[0])\n",
    "\n",
    "    fig, ax = plt.subplots(figsize=(10, 6))\n",
    "    ax.scatter(*zip(*ordered_points))\n",
    "\n",
    "    for i, point in enumerate(ordered_points[:-1]):\n",
    "        plt.annotate(i, (point[0] + 0.5, point[1] + 0.5))\n",
    "        if i > 0 and i < len(ordered_points) - 2:  # Exclude start and end points from circles\n",
    "            draw_circle(ax, point, radius)\n",
    "\n",
    "    new_path = [ordered_points[0]]\n",
    "    for i in range(1, len(ordered_points) - 2):\n",
    "        # calculate angle and chords for the current waypoint\n",
    "        angle = angle_between_points(ordered_points[i-1], ordered_points[i])\n",
    "        nextangle = angle_between_points(ordered_points[i], ordered_points[i+1])\n",
    "        chord_start = point_on_circle(ordered_points[i], angle - np.pi , radius)\n",
    "        chord_end = point_on_circle(ordered_points[i], nextangle , radius)\n",
    "\n",
    "        # If the chord_start is closer to the previous waypoint, it should be the incoming path.\n",
    "        # Otherwise, chord_end should be the incoming path.\n",
    "        if np.linalg.norm(np.array(chord_start) - np.array(ordered_points[i-1])) < np.linalg.norm(np.array(chord_end) - np.array(ordered_points[i-1])):\n",
    "            new_path.extend([chord_start, ordered_points[i], chord_end])\n",
    "            ax.plot(*zip(*[chord_start, ordered_points[i], chord_end]), 'r-')  # visualize the chord\n",
    "        else:\n",
    "            new_path.extend([chord_end, ordered_points[i], chord_start])\n",
    "            ax.plot(*zip(*[chord_end, ordered_points[i], chord_start]), 'r-')  # visualize the chord\n",
    "\n",
    "    # add the ending point\n",
    "    new_path.append(ordered_points[-1])\n",
    "    total_distance = sum(np.linalg.norm(np.array(new_path[i]) - np.array(new_path[i+1])) for i in range(len(new_path) - 1))\n",
    "    print(f\"Total distance of new path: {total_distance:.2f}\")\n",
    "    ax.plot(*zip(*new_path), linestyle='-', marker='o')\n",
    "    \n",
    "\n",
    "    plt.xlabel('X')\n",
    "    plt.ylabel('Y')\n",
    "    plt.title('TSP Solution')\n",
    "    plt.grid()\n",
    "    plt.axis('equal')\n",
    "    plt.show()\n",
    "    return total_distance"
   ]
  },
  {
   "cell_type": "code",
   "execution_count": 20,
   "metadata": {},
   "outputs": [
    {
     "name": "stdout",
     "output_type": "stream",
     "text": [
      "TSP Distance: 128 miles\n"
     ]
    },
    {
     "ename": "AttributeError",
     "evalue": "'Assignment' object has no attribute 'Valuerouting'",
     "output_type": "error",
     "traceback": [
      "\u001b[0;31m---------------------------------------------------------------------------\u001b[0m",
      "\u001b[0;31mAttributeError\u001b[0m                            Traceback (most recent call last)",
      "Cell \u001b[0;32mIn[20], line 5\u001b[0m\n\u001b[1;32m      3\u001b[0m waypoints \u001b[39m=\u001b[39m [(\u001b[39m0\u001b[39m, \u001b[39m47\u001b[39m), (\u001b[39m1\u001b[39m, \u001b[39m2\u001b[39m), (\u001b[39m5\u001b[39m, \u001b[39m20\u001b[39m), (\u001b[39m32\u001b[39m, \u001b[39m43\u001b[39m)]\n\u001b[1;32m      4\u001b[0m radius \u001b[39m=\u001b[39m \u001b[39m5\u001b[39m\n\u001b[0;32m----> 5\u001b[0m plan_output \u001b[39m=\u001b[39m main(waypoints, radius)\n",
      "Cell \u001b[0;32mIn[18], line 31\u001b[0m, in \u001b[0;36mmain\u001b[0;34m(waypoints, radius)\u001b[0m\n\u001b[1;32m     29\u001b[0m solution \u001b[39m=\u001b[39m routing\u001b[39m.\u001b[39mSolveWithParameters(search_parameters)\n\u001b[1;32m     30\u001b[0m \u001b[39mif\u001b[39;00m solution:\n\u001b[0;32m---> 31\u001b[0m     plan_output \u001b[39m=\u001b[39m print_solution(manager, routing, solution)\n\u001b[1;32m     32\u001b[0m     plot_solution_fixed(waypoints, plan_output, radius)\n\u001b[1;32m     33\u001b[0m     \u001b[39mreturn\u001b[39;00m plan_output\n",
      "Cell \u001b[0;32mIn[15], line 29\u001b[0m, in \u001b[0;36mprint_solution\u001b[0;34m(manager, routing, solution)\u001b[0m\n\u001b[1;32m     27\u001b[0m     previous_index \u001b[39m=\u001b[39m index\n\u001b[1;32m     28\u001b[0m     index \u001b[39m=\u001b[39m solution\u001b[39m.\u001b[39mValue(routing\u001b[39m.\u001b[39mNextVar(index))\n\u001b[0;32m---> 29\u001b[0m     \u001b[39mprint\u001b[39m(solution\u001b[39m.\u001b[39;49mValuerouting\u001b[39m.\u001b[39mNextVar(index))\n\u001b[1;32m     30\u001b[0m plan_output \u001b[39m+\u001b[39m\u001b[39m=\u001b[39m \u001b[39m'\u001b[39m\u001b[39m \u001b[39m\u001b[39m{}\u001b[39;00m\u001b[39m\\n\u001b[39;00m\u001b[39m'\u001b[39m\u001b[39m.\u001b[39mformat(manager\u001b[39m.\u001b[39mIndexToNode(index))\n\u001b[1;32m     31\u001b[0m \u001b[39mprint\u001b[39m(plan_output)\n",
      "\u001b[0;31mAttributeError\u001b[0m: 'Assignment' object has no attribute 'Valuerouting'"
     ]
    }
   ],
   "source": [
    "if __name__ == '__main__':\n",
    "    # waypoints = [(random.randint(0, 50), random.randint(0, 50)) for _ in range(4)]\n",
    "    waypoints = [(0, 47), (1, 2), (5, 20), (32, 43)]\n",
    "    radius = 5\n",
    "    plan_output = main(waypoints, radius)"
   ]
  },
  {
   "cell_type": "code",
   "execution_count": 23,
   "metadata": {},
   "outputs": [
    {
     "name": "stdout",
     "output_type": "stream",
     "text": [
      "Total distance of new path: 129.55\n"
     ]
    },
    {
     "data": {
      "image/png": "[encoded data removed]",
      "text/plain": [
       "<Figure size 1000x600 with 1 Axes>"
      ]
     },
     "metadata": {},
     "output_type": "display_data"
    },
    {
     "data": {
      "text/plain": [
       "129.54756944685752"
      ]
     },
     "execution_count": 23,
     "metadata": {},
     "output_type": "execute_result"
    }
   ],
   "source": [
    "waypoints_test = [(0, 47), (1, 2), (5, 20), (32, 43)]\n",
    "\n",
    "tsp_output = '0 -> 2 -> 1 -> 3 -> 0'\n",
    "\n",
    "radius = 5\n",
    "\n",
    "plot_solution_fixed(waypoints_test, tsp_output, radius)"
   ]
  },
  {
   "cell_type": "code",
   "execution_count": 13,
   "metadata": {},
   "outputs": [
    {
     "data": {
      "text/plain": [
       "[(0, 47), (1, 2), (5, 20), (32, 43)]"
      ]
     },
     "execution_count": 13,
     "metadata": {},
     "output_type": "execute_result"
    }
   ],
   "source": [
    "bugged_waypponts = waypoints\n",
    "bugged_waypponts"
   ]
  }
 ],
 "metadata": {
  "kernelspec": {
   "display_name": "base",
   "language": "python",
   "name": "python3"
  },
  "language_info": {
   "codemirror_mode": {
    "name": "ipython",
    "version": 3
   },
   "file_extension": ".py",
   "mimetype": "text/x-python",
   "name": "python",
   "nbconvert_exporter": "python",
   "pygments_lexer": "ipython3",
   "version": "3.10.11"
  },
  "orig_nbformat": 4
 },
 "nbformat": 4,
 "nbformat_minor": 2
}
