{
 "cells": [
  {
   "cell_type": "code",
   "execution_count": 70,
   "metadata": {},
   "outputs": [],
   "source": [
    "import numpy as np\n",
    "# from function import *\n",
    "import matplotlib.pyplot as plt\n",
    "from itertools import product\n",
    "\n",
    "\n",
    "speed_uav =30\n",
    "speed_ugv =10\n",
    "survey_time = 1/6\n",
    "waypoints = [(12, 50), (17, 50), (20, 49),(20, 46)]\n",
    "plan_output = \"0 -> 1 -> 2 -> 3 -> 0\"\n",
    "radii = [1,2]\n",
    "ordered_points = [waypoints[int(node)] for node in plan_output.split() if node.isdigit()]\n",
    "ordered_points.append(ordered_points[0])"
   ]
  },
  {
   "cell_type": "code",
   "execution_count": 71,
   "metadata": {},
   "outputs": [],
   "source": [
    "Total_E_UGV = 500000\n",
    "Total_E_UAV = 10000\n",
    "UAV_E_cost = 1250\n",
    "UAV_E_s_cost = 2500\n",
    "UGV_E_cost_with_UAV = 1000\n",
    "UGV_E_cost_without_UAV = 800\n",
    "Charging_speed = 1000\n"
   ]
  },
  {
   "cell_type": "code",
   "execution_count": 3,
   "metadata": {},
   "outputs": [],
   "source": [
    "import numpy as np\n",
    "import math\n",
    "import matplotlib.pyplot as plt\n",
    "from itertools import product\n",
    "\n",
    "def draw_circle(ax, center, radius):\n",
    "    circle = plt.Circle(center, radius, fill=False, edgecolor='b', linewidth=1.5)\n",
    "    ax.add_patch(circle)\n",
    "\n",
    "def angle_between_points(p1, p2):\n",
    "    return np.arctan2(p2[1] - p1[1], p2[0] - p1[0])\n",
    "\n",
    "def point_on_circle(center, angle, radius):\n",
    "    return (center[0] + radius * np.cos(angle), center[1] + radius * np.sin(angle))\n",
    "\n",
    "\n",
    "def compute_distance(point1, point2):\n",
    "    try:\n",
    "        x1, y1 = point1\n",
    "        x2, y2 = point2\n",
    "        return math.sqrt((x2 - x1)**2 + (y2 - y1)**2)\n",
    "    except TypeError:\n",
    "        print(f\"Error with points: {point1} and {point2}\")\n",
    "        raise\n",
    "\n",
    "def format_list_to_decimal(numbers_list):\n",
    "    \"\"\"Format each number in the list to two decimal places.\"\"\"\n",
    "    return [\"{:.2f}\".format(num) for num in numbers_list]\n",
    "\n",
    "\n",
    "def find_meeting_point_with_survey_final(center,radius, ugv_start, ugv_end, speed_ugv, speed_uav, survey_time):\n",
    "    \"\"\"\n",
    "    Final function to calculate the meeting point of UGV and UAV on the chord considering survey time.\n",
    "    \n",
    "    Parameters:\n",
    "    - radius: Radius of the circle.\n",
    "    - ugv_start: Starting point of UGV.\n",
    "    - ugv_end: Ending point of UGV.\n",
    "    - speed_ugv: Speed of UGV.\n",
    "    - speed_uav: Speed of UAV.\n",
    "    - survey_time: Time of survey the point\n",
    "    \n",
    "    Returns:\n",
    "    - Meeting point of UGV and UAV.\n",
    "    - Wait time for UGV (if any).\n",
    "    \"\"\"\n",
    "    \n",
    "    # Calculating the length of the chord\n",
    "    chord_length = np.sqrt((ugv_end[0] - ugv_start[0])**2 + (ugv_end[1] - ugv_start[1])**2)\n",
    "    \n",
    "    # Distance traveled by UGV when UAV reaches the center and finishes survey\n",
    "    distance_ugv_traveled = speed_ugv * ((radius / speed_uav) + survey_time)\n",
    "    \n",
    "    # Remaining distance on the chord for UGV\n",
    "    remaining_distance = chord_length - distance_ugv_traveled\n",
    "    \n",
    "    # Time taken by UAV and UGV to meet on the chord after UAV finishes survey\n",
    "    time_to_meet = remaining_distance / (speed_uav + speed_ugv)\n",
    "    \n",
    "    # Total distance traveled by UGV on the chord till they meet\n",
    "    total_distance_ugv = distance_ugv_traveled + speed_ugv * time_to_meet\n",
    "    \n",
    "    # Coordinates of the meeting point on the chord\n",
    "    x_meeting = ugv_start[0] + (total_distance_ugv / chord_length) * (ugv_end[0] - ugv_start[0])\n",
    "    y_meeting = ugv_start[1] + (total_distance_ugv / chord_length) * (ugv_end[1] - ugv_start[1])\n",
    "    \n",
    "    # Check if meeting point is outside the circle\n",
    "    distance_from_center = np.sqrt((x_meeting - center[0])**2 + (y_meeting - center[1])**2)\n",
    "    \n",
    "    wait_time = 0  # Default wait time\n",
    "    \n",
    "    if distance_from_center > radius:\n",
    "        # print(\"yes\",{distance_from_center})\n",
    "        # Set the meeting point to be the UGV end location\n",
    "        x_meeting, y_meeting = ugv_end[0], ugv_end[1]\n",
    "        \n",
    "        # Calculate distance UGV traveled to get to the end point\n",
    "        distance_ugv_traveled = chord_length\n",
    "        \n",
    "        # Calculate the time taken by UGV to reach the end point\n",
    "        time_ugv = distance_ugv_traveled / speed_ugv\n",
    "        \n",
    "        # Time taken by UAV to reach the UGV end point from the circle's center after survey\n",
    "        distance_uav_traveled = radius*2\n",
    "        time_uav = (distance_uav_traveled / speed_uav) + survey_time\n",
    "        \n",
    "        # Calculate the wait time for UGV\n",
    "        wait_time = time_uav - time_ugv\n",
    "    \n",
    "    return (x_meeting, y_meeting), wait_time\n",
    "def compute_ordered_points(plan_output, waypoints):\n",
    "    ordered_points = [waypoints[int(node)] for node in plan_output.split() if node.isdigit()]\n",
    "    ordered_points.append(ordered_points[0])\n",
    "    return ordered_points\n",
    "\n",
    "def initialize_plot(ordered_points):\n",
    "    fig, ax = plt.subplots(figsize=(10, 6))\n",
    "    ax.scatter(*zip(*ordered_points))\n",
    "    return fig, ax\n",
    "\n",
    "def compute_paths_for_radius(ordered_points, radius_combination, speed_ugv, speed_uav, survey_time):\n",
    "    UGV_outer_path = [ordered_points[0]]\n",
    "    UGV_path = [ordered_points[0]]\n",
    "    UAV_path = []\n",
    "    # UAV_distances = []\n",
    "    UGV_inter_distances = []\n",
    "    \n",
    "    # Main logic to compute paths based on radius_combination\n",
    "    # This is a placeholder for now. We'll populate this in the next steps.\n",
    "    \n",
    "    return UGV_path, UAV_path, UGV_outer_path, UGV_inter_distances\n",
    "\n",
    "\n",
    "\n",
    "\n",
    "def compute_non_overlapping_pairwise_distances(path):\n",
    "    \"\"\"Compute the distances between each non-overlapping pair of points in the given path.\"\"\"\n",
    "    distances = []\n",
    "    for sub_path in path:\n",
    "        for i in range(0, len(sub_path) - 1, 2):\n",
    "            # Validate the points before computing the distance\n",
    "            if isinstance(sub_path[i], (list, tuple)) and len(sub_path[i]) == 2 and \\\n",
    "               isinstance(sub_path[i+1], (list, tuple)) and len(sub_path[i+1]) == 2:\n",
    "                distances.append(compute_distance(sub_path[i], sub_path[i+1]))\n",
    "                # print(sub_path[i+1]) \n",
    "    return distances\n",
    "\n",
    "    \n",
    "def compute_tripwise_distances(path):\n",
    "    \"\"\"Compute the distances for each set of three points in the given path.\"\"\"\n",
    "    distances = []\n",
    "    print(path)\n",
    "    for i in range(0, len(path) - 2, 3):\n",
    "        \n",
    "        distance_trip = compute_distance(path[i], path[i+1]) + compute_distance(path[i+1], path[i+2])\n",
    "        distances.append(distance_trip)\n",
    "    return distances\n",
    "\n",
    "def circles_overlap(center1, radius1, center2, radius2):\n",
    "    \"\"\"Check if two circles overlap.\"\"\"\n",
    "    distance_between_centers = compute_distance(center1, center2)\n",
    "    return distance_between_centers < (radius1 + radius2)\n",
    "    \n",
    "def remove_empty_lists(lst):\n",
    "    return [sublist for sublist in lst if sublist]\n",
    "\n",
    "\n",
    "# Note: The function compute_distance, find_meeting_point_with_survey_final, angle_between_points, \n",
    "# point_on_circle, and circles_overlap are not provided, so if you plan to run this function, ensure they are defined."
   ]
  },
  {
   "cell_type": "code",
   "execution_count": 6,
   "metadata": {},
   "outputs": [],
   "source": [
    "\n",
    "def compute_optimized_paths_for_radius_updated_v3(ordered_points, radius_combination, speed_ugv, speed_uav, survey_time):\n",
    "    UGV_outer_path = []\n",
    "    UGV_path = [ordered_points[0]]\n",
    "    UAV_path = []\n",
    "    UGVD_inter_without_drone = []\n",
    "    UGVD_inter_with_drone = []\n",
    "    chord_end = None\n",
    "    prev_chord_end = None\n",
    "    final_wait_set = []\n",
    "    for i, point in enumerate(ordered_points[:-1]):\n",
    "        current_radius = radius_combination[i % len(radius_combination)]\n",
    "        \n",
    "        # Exclude the start and end points from circles\n",
    "        if 0 < i < len(ordered_points) - 2:\n",
    "            angle = angle_between_points(ordered_points[i-1], ordered_points[i])\n",
    "            nextangle = angle_between_points(ordered_points[i], ordered_points[i+1])\n",
    "            chord_start = point_on_circle(ordered_points[i], angle - np.pi, current_radius)\n",
    "            chord_end = point_on_circle(ordered_points[i], nextangle, current_radius)\n",
    "            \n",
    "            if prev_chord_end and i > 1 and circles_overlap(ordered_points[i], current_radius, ordered_points[i-1], radius_combination[(i-1) % len(radius_combination)]):\n",
    "                chord_start = prev_chord_end\n",
    "\n",
    "            final_meeting_point, final_wait_time = find_meeting_point_with_survey_final(\n",
    "                ordered_points[i], current_radius, chord_start, chord_end, \n",
    "                speed_ugv, speed_uav, survey_time\n",
    "            )\n",
    "            final_wait_set.append(final_wait_time)\n",
    "            # Update paths based on the provided structure\n",
    "            if chord_start:\n",
    "                UAV_path.append([chord_start, point, final_meeting_point])\n",
    "                UGV_path.append(chord_start)\n",
    "                \n",
    "                # Update UGV_outer_path as per the new structure\n",
    "                if i == 1:\n",
    "                    UGV_outer_path.append([ordered_points[0], chord_start])\n",
    "                else:\n",
    "                    UGV_outer_path.append([prev_chord_end, chord_start])\n",
    "                \n",
    "            if chord_end:\n",
    "                UGV_path.append(chord_end)\n",
    "                \n",
    "            UGVD_inter_without_drone.append(compute_distance(chord_start, final_meeting_point))\n",
    "            UGVD_inter_with_drone.append(compute_distance(final_meeting_point, chord_end))\n",
    "            \n",
    "            prev_chord_end = chord_end\n",
    "            \n",
    "    # Adding the last point to the paths\n",
    "    UGV_path.append(ordered_points[-1])\n",
    "    UGV_outer_path.append([chord_end,ordered_points[-1]])\n",
    "    return UGV_path, UAV_path, UGV_outer_path, UGVD_inter_without_drone, UGVD_inter_with_drone,final_wait_set"
   ]
  },
  {
   "cell_type": "code",
   "execution_count": 9,
   "metadata": {},
   "outputs": [
    {
     "data": {
      "image/png": "[encoded data removed]",
      "text/plain": [
       "<Figure size 1000x1000 with 1 Axes>"
      ]
     },
     "metadata": {},
     "output_type": "display_data"
    }
   ],
   "source": [
    "def draw_circle(ax, center, radius, *args, **kwargs):\n",
    "    circle = plt.Circle(center, radius, fill=False, *args, **kwargs)\n",
    "    ax.add_patch(circle)\n",
    "\n",
    "def plot_updated_paths_with_circles(UAV_path, UGV_outer_path, ordered_points, radius_combination):\n",
    "    fig, ax = plt.subplots(figsize=(10, 10))\n",
    "\n",
    "    # Plot UAV_path\n",
    "    for segment in UAV_path:\n",
    "        ax.plot(*zip(*segment), 'g-', label='UAV Path')\n",
    "        ax.scatter(*zip(*segment), color='g', marker='o')\n",
    "    \n",
    "    # Plot UGV_outer_path without connecting segments to each other\n",
    "    for segment in UGV_outer_path:\n",
    "        ax.plot(*zip(*segment), 'b-', label='UGV Outer Path')\n",
    "        ax.scatter(segment[0][0], segment[0][1], color='b', marker='x')  # Plotting start of the segment\n",
    "        ax.scatter(segment[1][0], segment[1][1], color='b', marker='x')  # Plotting end of the segment\n",
    "        \n",
    "    # Draw circles\n",
    "    for i, point in enumerate(ordered_points[:-1]):\n",
    "        if 0 < i < len(ordered_points) - 2:\n",
    "            current_radius = radius_combination[i % len(radius_combination)]\n",
    "            draw_circle(ax, point, current_radius, color='b', linestyle='-')\n",
    "    \n",
    "    # Labels and Title\n",
    "    ax.set_title(\"UAV and UGV Paths with Circles\")\n",
    "    ax.set_xlabel(\"X\")\n",
    "    ax.set_ylabel(\"Y\")\n",
    "    ax.grid(True)\n",
    "    \n",
    "    # Handling legends to avoid repetition\n",
    "    handles, labels = ax.get_legend_handles_labels()\n",
    "    unique_labels = list(dict.fromkeys(labels))\n",
    "    unique_handles = [handles[labels.index(lab)] for lab in unique_labels]\n",
    "    ax.legend(unique_handles, unique_labels, loc=\"best\")\n",
    "    ax.set_aspect('equal', adjustable='box')\n",
    "    plt.show()\n",
    "\n",
    "# Given ordered points\n",
    "\n",
    "\n",
    "# Plotting the updated paths with circles\n",
    "plot_updated_paths_with_circles(UAV_path, UGV_outer_path, ordered_points, radius_combination)\n"
   ]
  },
  {
   "cell_type": "code",
   "execution_count": 74,
   "metadata": {},
   "outputs": [
    {
     "name": "stdout",
     "output_type": "stream",
     "text": [
      "radius_combination:(1, 1, 1)\n",
      "UAV_path:[[(16.0, 50.0), (17, 50), (17.948683298050515, 49.68377223398316)], [(19.051316701949485, 49.31622776601684), (20, 49), (20.0, 48.0)], [(20.0, 47.0), (20, 46), (19.105572809000083, 46.44721359549996)]]\n",
      "UGV_outer_path:[[(12, 50), (16.0, 50.0)], [(17.948683298050515, 49.68377223398316), (19.051316701949485, 49.31622776601684)], [(20.0, 48.0), (20.0, 47.0)], [(19.105572809000083, 46.44721359549996), (12, 50)]]\n",
      "UGVD_inter_with_drone:[0.0, 0.0, 0.0]\n",
      "UGVD_inter_without_drone:[1.9741749152749946, 1.6224843703511216, 1.0514622242382667]\n",
      "UGV_outer_path_E_cost:[4000.0, 1162.2776601683777, 1000.0, 7944.271909999157] \n",
      "\n",
      "total_time:2.11 \n",
      "\n",
      "UAV_inter_E_cost:[5000.0, 5000.0, 5000.0]\n",
      "radius_combination:(1, 1, 2)\n",
      "UAV_path:[[(16.0, 50.0), (17, 50), (17.948683298050515, 49.68377223398316)], [(18.102633403898974, 49.632455532033674), (20, 49), (19.600218051085818, 47.55466782496802)], [(20.0, 47.0), (20, 46), (19.105572809000083, 46.44721359549996)]]\n",
      "UGV_outer_path:[[(12, 50), (16.0, 50.0)], [(17.948683298050515, 49.68377223398316), (18.102633403898974, 49.632455532033674)], [(20.0, 47.0), (20.0, 47.0)], [(19.105572809000083, 46.44721359549996), (12, 50)]]\n",
      "UGVD_inter_with_drone:[0.0, 0.683726555526679, 0.0]\n",
      "UGVD_inter_without_drone:[1.9741749152749946, 2.5612421851755625, 1.0514622242382667]\n",
      "UGV_outer_path_E_cost:[4000.0, 162.2776601683804, 0.0, 7944.271909999157] \n",
      "\n",
      "total_time:2.00 \n",
      "\n",
      "UAV_inter_E_cost:[5000.0, 6875.0, 5000.0]\n",
      "radius_combination:(1, 2, 1)\n",
      "UAV_path:[[(15.0, 50.0), (17, 50), (17.701744699890877, 49.56156719172939)], [(19.051316701949485, 49.31622776601684), (20, 49), (20.0, 48.0)], [(20.0, 47.0), (20, 46), (19.105572809000083, 46.44721359549996)]]\n",
      "UGV_outer_path:[[(12, 50), (15.0, 50.0)], [(18.897366596101026, 49.367544467966326), (19.051316701949485, 49.31622776601684)], [(20.0, 48.0), (20.0, 47.0)], [(19.105572809000083, 46.44721359549996), (12, 50)]]\n",
      "UGVD_inter_with_drone:[1.2112623729124874, 0.0, 0.0]\n",
      "UGVD_inter_without_drone:[2.737087457637498, 1.6224843703511216, 1.0514622242382667]\n",
      "UGV_outer_path_E_cost:[3000.0, 162.2776601683804, 1000.0, 7944.271909999157] \n",
      "\n",
      "total_time:2.07 \n",
      "\n",
      "UAV_inter_E_cost:[6037.5, 5000.0, 5000.0]\n",
      "radius_combination:(1, 2, 2)\n",
      "UAV_path:[[(15.0, 50.0), (17, 50), (17.701744699890877, 49.56156719172939)], [(18.897366596101026, 49.367544467966326), (20, 49), (19.911852407539282, 47.18926811409574)], [(20.0, 47.0), (20, 46), (19.105572809000083, 46.44721359549996)]]\n",
      "UGV_outer_path:[[(12, 50), (15.0, 50.0)], [(18.897366596101026, 49.367544467966326), (18.897366596101026, 49.367544467966326)], [(20.0, 47.0), (20.0, 47.0)], [(19.105572809000083, 46.44721359549996), (12, 50)]]\n",
      "UGVD_inter_with_drone:[1.2112623729124874, 0.2087879715644046, 0.0]\n",
      "UGVD_inter_without_drone:[2.737087457637498, 2.402929323854797, 1.0514622242382667]\n",
      "UGV_outer_path_E_cost:[3000.0, 0.0, 0.0, 7944.271909999157] \n",
      "\n",
      "total_time:1.98 \n",
      "\n",
      "UAV_inter_E_cost:[6037.5, 6225.0, 5000.0]\n",
      "radius_combination:(2, 1, 1)\n",
      "UAV_path:[[(16.0, 50.0), (17, 50), (17.948683298050515, 49.68377223398316)], [(19.051316701949485, 49.31622776601684), (20, 49), (20.0, 48.0)], [(20.0, 48.0), (20, 46), (18.211145618000167, 46.89442719099991)]]\n",
      "UGV_outer_path:[[(12, 50), (16.0, 50.0)], [(17.948683298050515, 49.68377223398316), (19.051316701949485, 49.31622776601684)], [(20.0, 48.0), (20.0, 48.0)], [(18.211145618000167, 46.89442719099991), (12, 50)]]\n",
      "UGVD_inter_with_drone:[0.0, 0.0, 0.0]\n",
      "UGVD_inter_without_drone:[1.9741749152749946, 1.6224843703511216, 2.102924448476537]\n",
      "UGV_outer_path_E_cost:[4000.0, 1162.2776601683777, 0.0, 6944.271909999158] \n",
      "\n",
      "total_time:1.98 \n",
      "\n",
      "UAV_inter_E_cost:[5000.0, 5000.0, 7500.0]\n",
      "radius_combination:(2, 1, 2)\n",
      "UAV_path:[[(16.0, 50.0), (17, 50), (17.948683298050515, 49.68377223398316)], [(18.102633403898974, 49.632455532033674), (20, 49), (19.600218051085818, 47.55466782496802)], [(20.0, 47.0), (20, 46), (18.211145618000167, 46.89442719099991)]]\n",
      "UGV_outer_path:[[(12, 50), (16.0, 50.0)], [(17.948683298050515, 49.68377223398316), (18.102633403898974, 49.632455532033674)], [(20.0, 47.0), (20.0, 47.0)], [(18.211145618000167, 46.89442719099991), (12, 50)]]\n",
      "UGVD_inter_with_drone:[0.0, 0.683726555526679, 0.0]\n",
      "UGVD_inter_without_drone:[1.9741749152749946, 2.5612421851755625, 1.7919669690036628]\n",
      "UGV_outer_path_E_cost:[4000.0, 162.2776601683804, 0.0, 6944.271909999158] \n",
      "\n",
      "total_time:1.97 \n",
      "\n",
      "UAV_inter_E_cost:[5000.0, 6875.0, 6250.0]\n",
      "radius_combination:(2, 2, 1)\n",
      "UAV_path:[[(15.0, 50.0), (17, 50), (17.701744699890877, 49.56156719172939)], [(19.051316701949485, 49.31622776601684), (20, 49), (20.0, 48.0)], [(20.0, 48.0), (20, 46), (18.211145618000167, 46.89442719099991)]]\n",
      "UGV_outer_path:[[(12, 50), (15.0, 50.0)], [(18.897366596101026, 49.367544467966326), (19.051316701949485, 49.31622776601684)], [(20.0, 48.0), (20.0, 48.0)], [(18.211145618000167, 46.89442719099991), (12, 50)]]\n",
      "UGVD_inter_with_drone:[1.2112623729124874, 0.0, 0.0]\n",
      "UGVD_inter_without_drone:[2.737087457637498, 1.6224843703511216, 2.102924448476537]\n",
      "UGV_outer_path_E_cost:[3000.0, 162.2776601683804, 0.0, 6944.271909999158] \n",
      "\n",
      "total_time:1.94 \n",
      "\n",
      "UAV_inter_E_cost:[6037.5, 5000.0, 7500.0]\n",
      "radius_combination:(2, 2, 2)\n",
      "UAV_path:[[(15.0, 50.0), (17, 50), (17.701744699890877, 49.56156719172939)], [(18.897366596101026, 49.367544467966326), (20, 49), (19.911852407539282, 47.18926811409574)], [(20.0, 47.0), (20, 46), (18.211145618000167, 46.89442719099991)]]\n",
      "UGV_outer_path:[[(12, 50), (15.0, 50.0)], [(18.897366596101026, 49.367544467966326), (18.897366596101026, 49.367544467966326)], [(20.0, 47.0), (20.0, 47.0)], [(18.211145618000167, 46.89442719099991), (12, 50)]]\n",
      "UGVD_inter_with_drone:[1.2112623729124874, 0.2087879715644046, 0.0]\n",
      "UGVD_inter_without_drone:[2.737087457637498, 2.402929323854797, 1.7919669690036628]\n",
      "UGV_outer_path_E_cost:[3000.0, 0.0, 0.0, 6944.271909999158] \n",
      "\n",
      "total_time:1.95 \n",
      "\n",
      "UAV_inter_E_cost:[6037.5, 6225.0, 6250.0]\n"
     ]
    }
   ],
   "source": [
    "UGVdistances = []\n",
    "UAV_total_distances = []\n",
    "# UGV_outer_path_distances = []\n",
    "UAV_distances_set = []\n",
    "ordered_points = compute_ordered_points(plan_output, waypoints)\n",
    "for radius_combination in product(radii, repeat=len(waypoints)-1):\n",
    "    print(f\"radius_combination:{radius_combination}\")\n",
    "    UGV_outer_path_distances = []\n",
    "    UGV_path, UAV_path, UGV_outer_path, UGVD_inter_without_drone,UGVD_inter_with_drone,final_wait_time= compute_optimized_paths_for_radius_updated_v3(ordered_points, radius_combination, speed_ugv, speed_uav, survey_time)\n",
    "    print(f\"UAV_path:{UAV_path}\")\n",
    "    \n",
    "    # # Plotting the updated paths\n",
    "    # # plot_updated_paths_with_circles(ordered_points,UAV_path, UGV_outer_path,radius_combination)\n",
    "    print(f\"UGV_outer_path:{UGV_outer_path}\")\n",
    "    # print(f\"UGV_outer_path:{UGV_outer_path}\")\n",
    "    # print(f\"final_wait_time:{final_wait_time}\")\n",
    "    print(f\"UGVD_inter_with_drone:{UGVD_inter_with_drone}\")\n",
    "    print(f\"UGVD_inter_without_drone:{UGVD_inter_without_drone}\")\n",
    "    \n",
    "    total_wait_time = 0\n",
    "    UGV_total_distance = 0\n",
    "    for j in range(len(final_wait_time)):\n",
    "        total_wait_time+=final_wait_time[j]\n",
    "    for i in range(len(UGV_path)-1):\n",
    "        distance = compute_distance(UGV_path[i],UGV_path[i+1])\n",
    "        UGV_total_distance += distance\n",
    "    for group in UGV_outer_path:\n",
    "        distance = 0 \n",
    "        # print(group)\n",
    "        distance = compute_distance(group[0],group[1])\n",
    "        UGV_outer_path_distances.append(distance)\n",
    "    UGV_outer_path_E_cost = [(float(i) * UGV_E_cost_with_UAV)  for i in UGV_outer_path_distances]\n",
    "    print(f\"UGV_outer_path_E_cost:{UGV_outer_path_E_cost} \\n\")\n",
    "    total_time = total_wait_time + UGV_total_distance/speed_ugv\n",
    "    print(f\"total_time:{total_time:.2f} \\n\")\n",
    "    UGV_charging_distances = []\n",
    "    UAV_inter_distances = []\n",
    "    \n",
    "    for group in UAV_path:\n",
    "        group_distance = 0\n",
    "        for i in range(len(group) - 1):\n",
    "            group_distance += compute_distance(group[i],group[i+1])\n",
    "        UAV_inter_distances.append(group_distance)\n",
    "    UAV_inter_distances= format_list_to_decimal(UAV_inter_distances)\n",
    "\n",
    "    \n",
    "    \n",
    "    # print(f\"UAV_inter_distances:{UAV_inter_distances}\")\n",
    "\n",
    "    UAV_inter_E_cost = [(float(i) * UAV_E_cost) + UAV_E_s_cost  for i in UAV_inter_distances]\n",
    "    print(f\"UAV_inter_E_cost:{UAV_inter_E_cost}\")\n"
   ]
  },
  {
   "cell_type": "code",
   "execution_count": 75,
   "metadata": {},
   "outputs": [
    {
     "name": "stdout",
     "output_type": "stream",
     "text": [
      "2.0\n",
      "2.827447249794809\n",
      "1.1622776601683813\n",
      "2.9751538171871177\n",
      "1.0\n",
      "3.0\n",
      "[2.827447249794809, 2.9751538171871177, 3.0]\n"
     ]
    }
   ],
   "source": [
    "import math\n",
    "\n",
    "# Recalculate UAV energy consumption for its path\n",
    "# UAV_energy_remaining = Total_E_UAV\n",
    "UAV_distances_set = []\n",
    "for group in UAV_path:\n",
    "    distance = 0\n",
    "    for i in range(len(group) - 1):\n",
    "        # print(group[i], group[i+1])\n",
    "        distance += compute_distance(group[i], group[i+1])\n",
    "        print(distance)\n",
    "\n",
    "    UAV_distances_set.append(distance)\n",
    "        \n",
    "\n",
    "print(UAV_distances_set)\n"
   ]
  },
  {
   "cell_type": "code",
   "execution_count": 22,
   "metadata": {},
   "outputs": [
    {
     "data": {
      "text/plain": [
       "[3.0, 0.0, 0.0, 6.944271909999158]"
      ]
     },
     "execution_count": 22,
     "metadata": {},
     "output_type": "execute_result"
    }
   ],
   "source": [
    "UGV_outer_path_distances"
   ]
  },
  {
   "cell_type": "code",
   "execution_count": 90,
   "metadata": {},
   "outputs": [
    {
     "data": {
      "text/plain": [
       "[2.737087457637498, 2.402929323854797, 1.7919669690036628]"
      ]
     },
     "execution_count": 90,
     "metadata": {},
     "output_type": "execute_result"
    }
   ],
   "source": [
    "UGVD_inter_without_drone"
   ]
  },
  {
   "cell_type": "code",
   "execution_count": 32,
   "metadata": {},
   "outputs": [
    {
     "data": {
      "text/plain": [
       "[0.8274472497948089, 1.8128761570187362, 2.0]"
      ]
     },
     "execution_count": 32,
     "metadata": {},
     "output_type": "execute_result"
    }
   ],
   "source": [
    "UAV_distances_set"
   ]
  },
  {
   "cell_type": "code",
   "execution_count": 59,
   "metadata": {},
   "outputs": [
    {
     "data": {
      "text/plain": [
       "500000"
      ]
     },
     "execution_count": 59,
     "metadata": {},
     "output_type": "execute_result"
    }
   ],
   "source": [
    "Total_E_UGV"
   ]
  },
  {
   "cell_type": "code",
   "execution_count": 92,
   "metadata": {},
   "outputs": [
    {
     "name": "stdout",
     "output_type": "stream",
     "text": [
      "At waypoint:1\n",
      "UAV_distances:2.83 km\n",
      "charging_distance:1.21 km\n",
      "UAV_Trip_Cost:6034.31 mah,UGV_Trip_Cost:2189.67 mah \n",
      "charge_amount:1211.26 mah\n",
      "UAV_energy_remaining:496599.07 mah\n",
      "\n",
      "At waypoint:2\n",
      "UAV_distances:2.98 km\n",
      "charging_distance:0.21 km\n",
      "UAV_Trip_Cost:6218.94 mah,UGV_Trip_Cost:1922.34 mah \n",
      "charge_amount:208.79 mah\n",
      "UAV_energy_remaining:494467.94 mah\n",
      "\n",
      "mission Failed\n"
     ]
    },
    {
     "data": {
      "text/plain": [
       "(494467.93623032933, -1)"
      ]
     },
     "execution_count": 92,
     "metadata": {},
     "output_type": "execute_result"
    }
   ],
   "source": [
    "# Initialize UGV energy level\n",
    "UGV_energy_remaining = Total_E_UGV\n",
    "UAV_energy_remaining = Total_E_UAV\n",
    "# Skip the initial segment for UAV charging as it starts with full energy\n",
    "for i in range(len(UGV_outer_path_distances)-1):\n",
    "    print(f\"At waypoint:{i+1}\")\n",
    "    charging_distance = UGVD_inter_with_drone[i]+UGV_outer_path_distances[i+1]\n",
    "    UAV_distances = UAV_distances_set[i]\n",
    "    print(f\"UAV_distances:{UAV_distances:.2f} km\")\n",
    "    print(f\"charging_distance:{charging_distance:.2f} km\")\n",
    "    # print((len(UAV_path[i])-2))\n",
    "    UAV_Trip_Cost = UAV_distances * UAV_E_cost + UAV_E_s_cost * (len(UAV_path[i])-2) \n",
    "    UGV_Trip_Cost = UGVD_inter_without_drone[i] * UGV_E_cost_without_UAV\n",
    "    print(f\"UAV_Trip_Cost:{UAV_Trip_Cost:.2f} mah,UGV_Trip_Cost:{UGV_Trip_Cost:.2f} mah \")\n",
    "    UAV_energy_remaining -= UAV_Trip_Cost \n",
    "    UGV_energy_remaining -= UGV_Trip_Cost\n",
    "    # print(UAV_energy_remaining)\n",
    "    if UAV_energy_remaining < Total_E_UAV:\n",
    "        charge_amount = min(Charging_speed * charging_distance , UAV_Trip_Cost, UGV_energy_remaining)\n",
    "        UGV_energy_remaining -= charge_amount\n",
    "        UAV_energy_remaining += charge_amount\n",
    "        # print(UAV_energy_remaining)\n",
    "    print(f\"charge_amount:{charge_amount:.2f} mah\")\n",
    "    \n",
    "    print(f\"UAV_energy_remaining:{UGV_energy_remaining:.2f} mah\\n\"  )\n",
    "    if UGV_energy_remaining < 0:\n",
    "        print(\"mission Failed\")\n",
    "        UGV_energy_remaining = -1\n",
    "        break\n",
    "    elif UAV_energy_remaining <0:\n",
    "        print(\"mission Failed\")\n",
    "        UAV_energy_remaining  =-1\n",
    "        break\n",
    "\n",
    "\n",
    "UGV_energy_remaining, UAV_energy_remaining\n"
   ]
  },
  {
   "cell_type": "code",
   "execution_count": 43,
   "metadata": {},
   "outputs": [
    {
     "name": "stdout",
     "output_type": "stream",
     "text": [
      "2.0\n",
      "2.827447249794809\n",
      "1.1622776601683813\n",
      "2.9751538171871177\n",
      "1.0\n",
      "3.0\n"
     ]
    },
    {
     "data": {
      "text/plain": [
       "[2.827447249794809, 2.9751538171871177, 3.0]"
      ]
     },
     "execution_count": 43,
     "metadata": {},
     "output_type": "execute_result"
    }
   ],
   "source": [
    "import math\n",
    "\n",
    "group_distances = []\n",
    "\n",
    "for group in UAV_path:\n",
    "    group_distance = 0\n",
    "    for i in range(len(group) - 1):\n",
    "        x1, y1 = group[i]\n",
    "        x2, y2 = group[i+1]\n",
    "        # print(group_distance)\n",
    "        group_distance += math.sqrt((x2 - x1)**2 + (y2 - y1)**2)\n",
    "        print(group_distance)\n",
    "    group_distances.append(group_distance)\n",
    "\n",
    "group_distances\n"
   ]
  },
  {
   "cell_type": "code",
   "execution_count": null,
   "metadata": {},
   "outputs": [],
   "source": [
    "group_distance += math.sqrt((x2 - x1)**2 + (y2 - y1)**2)"
   ]
  },
  {
   "attachments": {},
   "cell_type": "markdown",
   "metadata": {},
   "source": [
    "Total battery cap of the system: 515,000 Mha \n",
    "UGV speed: 10 km/h\n",
    "UAV Speed: 30 km/h\n",
    "\n",
    "Discharge speed: UGV:\n",
    "With drone: 1000mha/km\n",
    "with drone: 800mha/km\n",
    "charging cost: 1000mha/km\n",
    "\n",
    "max range of the UAV: 12 km\n",
    "total charge of UAV: 15,000 mha\n",
    "Discharge speed of UAV:\n",
    " Travel: 1250 mha/km\n",
    " Service : 2500 mha \n",
    "\t\n",
    "Charging rate: 1000 mha/km (1.5h)"
   ]
  },
  {
   "cell_type": "code",
   "execution_count": 24,
   "metadata": {},
   "outputs": [
    {
     "data": {
      "text/plain": [
       "(500000, 15000)"
      ]
     },
     "execution_count": 24,
     "metadata": {},
     "output_type": "execute_result"
    }
   ],
   "source": [
    "def charge_UAV_from_UGV(UGVD_inter_without_drone,UGVD_inter_with_drone, UGV_E_cost_with_UAV, UGV_E_cost_without_UAV, Total_E_UAV):\n",
    "    \n",
    "    UAV_energy = \n",
    "  \n",
    "    UAV_deficit = Total_E_UAV - UAV_energy\n",
    "    \n",
    "    # Calculate the energy the UGV needs to keep for the remaining journey\n",
    "    UGV_energy_needed_with_UAV = UGVD_inter_with_drone * UGV_E_cost_with_UAV\n",
    "    UGV_energy_needed_without_UAV = UGVD_inter_without_drone * UGV_E_cost_without_UAV\n",
    "    \n",
    "    # Determine the maximum energy the UGV can spare\n",
    "    UGV_spare_energy = UGV_energy - UGV_energy_needed_with_UAV -  UGV_energy_needed_without_UAV\n",
    "    \n",
    "    # Transfer energy from UGV to UAV\n",
    "    transfer_energy = min(UAV_deficit, UGV_spare_energy)\n",
    "    \n",
    "    UGV_energy -= transfer_energy\n",
    "    UAV_energy += transfer_energy\n",
    "    \n",
    "    return UGV_energy, UAV_energy\n",
    "\n",
    "# Test the function with the provided values\n",
    "distance_remaining = 18.3 # taken from the previous calculation\n",
    "UGV_energy, UAV_energy = charge_UAV_from_UGV(Total_E_UGV, Total_E_UAV, UGVD_inter_without_drone[0],UGVD_inter_with_drone[0], UGV_E_cost_with_UAV, UGV_E_cost_without_UAV, Total_E_UAV)\n",
    "UGV_energy, UAV_energy\n"
   ]
  }
 ],
 "metadata": {
  "kernelspec": {
   "display_name": "Python 3",
   "language": "python",
   "name": "python3"
  },
  "language_info": {
   "codemirror_mode": {
    "name": "ipython",
    "version": 3
   },
   "file_extension": ".py",
   "mimetype": "text/x-python",
   "name": "python",
   "nbconvert_exporter": "python",
   "pygments_lexer": "ipython3",
   "version": "3.10.11"
  },
  "orig_nbformat": 4
 },
 "nbformat": 4,
 "nbformat_minor": 2
}
