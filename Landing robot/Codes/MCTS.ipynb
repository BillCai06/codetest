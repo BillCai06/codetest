{
 "cells": [
  {
   "cell_type": "code",
   "execution_count": 1,
   "metadata": {},
   "outputs": [
    {
     "ename": "ValueError",
     "evalue": "max() arg is an empty sequence",
     "output_type": "error",
     "traceback": [
      "\u001b[1;31m---------------------------------------------------------------------------\u001b[0m",
      "\u001b[1;31mValueError\u001b[0m                                Traceback (most recent call last)",
      "Cell \u001b[1;32mIn[1], line 72\u001b[0m\n\u001b[0;32m     70\u001b[0m \u001b[39m# Testing the MCTS\u001b[39;00m\n\u001b[0;32m     71\u001b[0m root_node \u001b[39m=\u001b[39m Node()\n\u001b[1;32m---> 72\u001b[0m best_action \u001b[39m=\u001b[39m mcts(root_node)\n\u001b[0;32m     73\u001b[0m best_action\n",
      "Cell \u001b[1;32mIn[1], line 47\u001b[0m, in \u001b[0;36mmcts\u001b[1;34m(root, iterations)\u001b[0m\n\u001b[0;32m     44\u001b[0m     backpropagate(node, reward)\n\u001b[0;32m     46\u001b[0m \u001b[39m# Return the best child of root based on highest average reward\u001b[39;00m\n\u001b[1;32m---> 47\u001b[0m \u001b[39mreturn\u001b[39;00m \u001b[39mmax\u001b[39;49m(root\u001b[39m.\u001b[39;49mchildren, key\u001b[39m=\u001b[39;49m\u001b[39mlambda\u001b[39;49;00m k: root\u001b[39m.\u001b[39;49mchildren[k]\u001b[39m.\u001b[39;49mvalue \u001b[39m/\u001b[39;49m (root\u001b[39m.\u001b[39;49mchildren[k]\u001b[39m.\u001b[39;49mvisit_count \u001b[39m+\u001b[39;49m \u001b[39m1e-7\u001b[39;49m))\n",
      "\u001b[1;31mValueError\u001b[0m: max() arg is an empty sequence"
     ]
    }
   ],
   "source": [
    "import math\n",
    "import random\n",
    "\n",
    "class Node:\n",
    "    def __init__(self, parent=None):\n",
    "        self.visit_count = 0\n",
    "        self.value = 0.0\n",
    "        self.children = {}\n",
    "        self.parent = parent\n",
    "\n",
    "    def ucb1(self, exploration_constant=1.41):\n",
    "        # If the node hasn't been visited, return a high value to prioritize it\n",
    "        if self.visit_count == 0:\n",
    "            return float('inf')\n",
    "        parent_visits = self.parent.visit_count if self.parent is not None else 1\n",
    "        return self.value / self.visit_count + exploration_constant * math.sqrt(\n",
    "            math.log(parent_visits) / self.visit_count)\n",
    "\n",
    "    def best_child(self):\n",
    "        # Return child with highest UCB1 value\n",
    "        return max(self.children.values(), key=lambda node: node.ucb1(), default=None)\n",
    "\n",
    "    def fully_expanded(self):\n",
    "        # Check if all possible radii combinations for the next layer are expanded\n",
    "        return len(self.children) == 0  # This is a placeholder; you might need a more detailed condition\n",
    "\n",
    "    def update(self, reward):\n",
    "        self.visit_count += 1\n",
    "        self.value += reward\n",
    "\n",
    "\n",
    "def mcts(root, iterations=1000):\n",
    "    for _ in range(iterations):\n",
    "        # 1. Selection\n",
    "        node = select_node(root)\n",
    "\n",
    "        # 2. Expansion\n",
    "        expand_node(node)\n",
    "\n",
    "        # 3. Simulation\n",
    "        reward = simulate_from(node)\n",
    "\n",
    "        # 4. Backpropagation\n",
    "        backpropagate(node, reward)\n",
    "\n",
    "    # Return the best child of root based on highest average reward\n",
    "    return max(root.children, key=lambda k: root.children[k].value / (root.children[k].visit_count + 1e-7))\n",
    "\n",
    "\n",
    "def select_node(node):\n",
    "    while not node.fully_expanded():\n",
    "        node = node.best_child()\n",
    "    return node\n",
    "\n",
    "def expand_node(node):\n",
    "    # Placeholder: Expand the node by adding a child for a new radii combination\n",
    "    # You'd need to define how to select a new radii combination and how to add it\n",
    "    pass\n",
    "\n",
    "def simulate_from(node):\n",
    "    # Placeholder: Simulate (rollout) from the node to a terminal state\n",
    "    # Use your function to get the reward (total time) and feasibility (plan is possible)\n",
    "    return random.random()  # Placeholder\n",
    "\n",
    "def backpropagate(node, reward):\n",
    "    while node is not None:\n",
    "        node.update(reward)\n",
    "        node = node.parent\n",
    "\n",
    "# Testing the MCTS\n",
    "root_node = Node()\n",
    "best_action = mcts(root_node)\n",
    "best_action\n"
   ]
  },
  {
   "cell_type": "code",
   "execution_count": 4,
   "metadata": {},
   "outputs": [],
   "source": [
    "waypoints = [(0, 0), (1, 1), (2, 0), (3, 1)]  # Example waypoints, starting and ending at the same point\n",
    "possible_radii = [0.5, 1.0]  # Example radii"
   ]
  },
  {
   "cell_type": "code",
   "execution_count": 10,
   "metadata": {},
   "outputs": [
    {
     "name": "stdout",
     "output_type": "stream",
     "text": [
      "Node: [], Value: 0.0, Visits: 0\n",
      "  Node: [0.5], Value: 0.0, Visits: 0\n",
      "    Node: [0.5, 0.5], Value: 0.0, Visits: 0\n",
      "    Node: [0.5, 1.0], Value: 0.0, Visits: 0\n",
      "  Node: [1.0], Value: 0.0, Visits: 0\n",
      "    Node: [1.0, 0.5], Value: 0.0, Visits: 0\n",
      "    Node: [1.0, 1.0], Value: 0.0, Visits: 0\n"
     ]
    }
   ],
   "source": [
    "class Node:\n",
    "    def __init__(self, radius_sequence=None, parent=None):\n",
    "        self.visit_count = 0\n",
    "        self.value = 0.0\n",
    "        self.children = {}\n",
    "        self.parent = parent\n",
    "        self.radius_sequence = radius_sequence if radius_sequence else []\n",
    "\n",
    "    def ucb1(self, exploration_constant=1.41):\n",
    "        if self.visit_count == 0:\n",
    "            return float('inf')\n",
    "        parent_visits = self.parent.visit_count if self.parent is not None else 1\n",
    "        return self.value / self.visit_count + exploration_constant * math.sqrt(\n",
    "            math.log(parent_visits) / self.visit_count)\n",
    "\n",
    "    def best_child(self):\n",
    "        return max(self.children.values(), key=lambda node: node.ucb1(), default=None)\n",
    "\n",
    "    def fully_expanded(self):\n",
    "        return len(self.radius_sequence) == len(waypoints) - 1  # -1 since the sequence length is one less than waypoints\n",
    "\n",
    "    def update(self, reward):\n",
    "        self.visit_count += 1\n",
    "        self.value += reward\n",
    "        \n",
    "    def display(self, indent=0):\n",
    "        print('  ' * indent + f\"Node: {self.radius_sequence}, Value: {self.value}, Visits: {self.visit_count}\")\n",
    "    \n",
    "    def traverse(self, indent=0):\n",
    "        self.display(indent)\n",
    "        for child in self.children.values():\n",
    "            child.traverse(indent + 1)\n",
    "\n",
    "# Test the new methods\n",
    "root = Node()\n",
    "expand_node(root)  # Expand the root node\n",
    "for child in root.children.values():\n",
    "    expand_node(child)  # Expand each child node\n",
    "\n",
    "root.traverse()\n"
   ]
  },
  {
   "cell_type": "code",
   "execution_count": 9,
   "metadata": {},
   "outputs": [
    {
     "ename": "AttributeError",
     "evalue": "'Node' object has no attribute 'display'",
     "output_type": "error",
     "traceback": [
      "\u001b[1;31m---------------------------------------------------------------------------\u001b[0m",
      "\u001b[1;31mAttributeError\u001b[0m                            Traceback (most recent call last)",
      "Cell \u001b[1;32mIn[9], line 1\u001b[0m\n\u001b[1;32m----> 1\u001b[0m root\u001b[39m.\u001b[39;49mtraverse()\n",
      "Cell \u001b[1;32mIn[8], line 10\u001b[0m, in \u001b[0;36mNode.traverse\u001b[1;34m(self)\u001b[0m\n\u001b[0;32m      9\u001b[0m \u001b[39mdef\u001b[39;00m \u001b[39mtraverse\u001b[39m(\u001b[39mself\u001b[39m):\n\u001b[1;32m---> 10\u001b[0m     \u001b[39mself\u001b[39;49m\u001b[39m.\u001b[39;49mdisplay()\n\u001b[0;32m     11\u001b[0m     \u001b[39mfor\u001b[39;00m child \u001b[39min\u001b[39;00m \u001b[39mself\u001b[39m\u001b[39m.\u001b[39mchildren:\n\u001b[0;32m     12\u001b[0m         child\u001b[39m.\u001b[39mtraverse()\n",
      "\u001b[1;31mAttributeError\u001b[0m: 'Node' object has no attribute 'display'"
     ]
    }
   ],
   "source": [
    "root.traverse()"
   ]
  },
  {
   "cell_type": "code",
   "execution_count": 3,
   "metadata": {},
   "outputs": [],
   "source": [
    "waypoints = [(0, 0), (1, 1), (2, 0), (3, 1)]  # Example waypoints, starting and ending at the same point\n",
    "possible_radii = [0.5, 1.0]  # Example radii"
   ]
  }
 ],
 "metadata": {
  "kernelspec": {
   "display_name": "Python 3",
   "language": "python",
   "name": "python3"
  },
  "language_info": {
   "codemirror_mode": {
    "name": "ipython",
    "version": 3
   },
   "file_extension": ".py",
   "mimetype": "text/x-python",
   "name": "python",
   "nbconvert_exporter": "python",
   "pygments_lexer": "ipython3",
   "version": "3.10.6"
  },
  "orig_nbformat": 4
 },
 "nbformat": 4,
 "nbformat_minor": 2
}
