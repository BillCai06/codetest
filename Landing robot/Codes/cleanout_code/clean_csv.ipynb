{
 "cells": [
  {
   "cell_type": "code",
   "execution_count": 2,
   "metadata": {},
   "outputs": [
    {
     "name": "stdout",
     "output_type": "stream",
     "text": [
      "The minimum mission time is: 7.1457535012671\n"
     ]
    }
   ],
   "source": [
    "import pandas as pd\n",
    "\n",
    "# Read the CSV file\n",
    "df = pd.read_csv('BFBF.csv')\n",
    "\n",
    "# Filter out rows where mission_time is -1\n",
    "df = df[df['mission_time'] != -1]\n",
    "\n",
    "# Find the minimum mission_time\n",
    "min_mission_time = df['mission_time'].min()\n",
    "print(f\"The minimum mission time is: {min_mission_time}\")\n",
    "\n",
    "# Save the cleaned data back to a CSV file\n",
    "df.to_csv('BFBF_cleaned.csv', index=False)\n"
   ]
  }
 ],
 "metadata": {
  "kernelspec": {
   "display_name": "base",
   "language": "python",
   "name": "python3"
  },
  "language_info": {
   "codemirror_mode": {
    "name": "ipython",
    "version": 3
   },
   "file_extension": ".py",
   "mimetype": "text/x-python",
   "name": "python",
   "nbconvert_exporter": "python",
   "pygments_lexer": "ipython3",
   "version": "3.10.11"
  },
  "orig_nbformat": 4
 },
 "nbformat": 4,
 "nbformat_minor": 2
}
