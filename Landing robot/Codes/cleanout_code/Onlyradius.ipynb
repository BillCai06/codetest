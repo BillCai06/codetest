{
 "cells": [
  {
   "cell_type": "code",
   "execution_count": 15,
   "metadata": {},
   "outputs": [
    {
     "name": "stdout",
     "output_type": "stream",
     "text": [
      "5000\n"
     ]
    }
   ],
   "source": [
    "import numpy as np\n",
    "from Common_function import *\n",
    "import matplotlib.pyplot as plt\n",
    "from itertools import product\n",
    "import itertools\n",
    "\n",
    "x = 3  #how are is the distance set\n",
    "Total_E_UGV = 500000\n",
    "Total_E_UAV = 15000\n",
    "UAV_E_cost = 1250\n",
    "\n",
    "UGV_E_cost_with_UAV = 1000\n",
    "UGV_E_cost_without_UAV = 800\n",
    "Charging_speed = 1000\n",
    "speed_uav =30\n",
    "speed_ugv =10\n",
    "ten_minets = 2\n",
    "survey_time = ten_minets/6\n",
    "UAV_E_s_cost = 2500*ten_minets\n",
    "print(UAV_E_s_cost)\n",
    "# waypoints = [(20, 10), (24, 37), (36, 43), (8, 8), (0, 50), (30, 44), (28, 4), (32, 25)]\n",
    "# # waypoints = [(20,10), (10,10),(15,30)]\n",
    "# # plan_output = \"0 -> 1 -> 2 -> 0\"\n",
    "# plan_output = \"0 -> 3 -> 4 -> 1 -> 5 -> 2 -> 7 -> 6 -> 0\"\n",
    "waypoints = [(20,10), (10,10),(15,30)]\n",
    "plan_output = \"0 -> 1 -> 2 -> 0\"\n",
    "max_radius = ((Total_E_UAV - UAV_E_s_cost) / UAV_E_cost) / 2\n",
    "radii = np.linspace(0.1, max_radius, x)\n",
    "ordered_points = [waypoints[int(node)] for node in plan_output.split() if node.isdigit()]\n",
    "ordered_points.append(ordered_points[0])\n"
   ]
  },
  {
   "cell_type": "code",
   "execution_count": 16,
   "metadata": {},
   "outputs": [],
   "source": [
    "def calculate_UAV_inter_distances_inter(UAV_path):\n",
    "    UAV_inter_distances = 0\n",
    "    group_distance=0\n",
    "    for i in range(len(UAV_path) - 1):\n",
    "        group_distance += compute_distance(UAV_path[i], UAV_path[i + 1])\n",
    "    UAV_inter_distances=group_distance\n",
    "    return UAV_inter_distances"
   ]
  },
  {
   "cell_type": "code",
   "execution_count": 17,
   "metadata": {},
   "outputs": [],
   "source": [
    "import numpy as np\n",
    "\n",
    "# I am assuming the functions like angle_between_points, point_on_circle, find_meeting_point_with_survey_final, etc. \n",
    "# are previously defined. However, as they are not provided here, I'll make the necessary modifications based on the code provided.\n",
    "\n",
    "def compute_optimized_paths_for_radius_updated_v5(ordered_points, radius, speed_ugv, speed_uav, survey_time):\n",
    "    UGV_outer_path = []\n",
    "    UGV_path = [ordered_points[0]]\n",
    "    UAV_path = []\n",
    "    UGVD_inter_without_drone = []\n",
    "    UGVD_inter_with_drone = []\n",
    "    chord_end = None\n",
    "    prev_chord_end = None\n",
    "    \n",
    "    radius_set = []\n",
    "    \n",
    "    for i, point in enumerate(ordered_points[:-1]):\n",
    "        # Replace current_radius with radius\n",
    "        if 0 < i < len(ordered_points) - 2:\n",
    "            # assuming angle_between_points and point_on_circle functions are defined previously\n",
    "            angle = angle_between_points(ordered_points[i-1], ordered_points[i])\n",
    "            nextangle = angle_between_points(ordered_points[i], ordered_points[i+1])\n",
    "            chord_start = point_on_circle(ordered_points[i], angle - np.pi, radius)\n",
    "            chord_end = point_on_circle(ordered_points[i], nextangle, radius)\n",
    "            radius_set.append(radius)\n",
    "            \n",
    "            if prev_chord_end and i > 1 and circles_overlap(ordered_points[i], radius, ordered_points[i-1], radius):\n",
    "                chord_start = prev_chord_end\n",
    "\n",
    "            # assuming find_meeting_point_with_survey_final function is defined previously\n",
    "            final_meeting_point, final_wait_time = find_meeting_point_with_survey_final(\n",
    "                ordered_points[i], radius, chord_start, chord_end, \n",
    "                speed_ugv, speed_uav, survey_time\n",
    "            )\n",
    "     \n",
    "            \n",
    "            if chord_start:\n",
    "                UAV_path_segment = [chord_start, point, final_meeting_point]\n",
    "                UAV_path.append(UAV_path_segment)\n",
    "                UGV_path.append(chord_start)\n",
    "                # assuming calculate_UAV_inter_distances_inter function is defined previously\n",
    "                UAV_path_segment_distance = calculate_UAV_inter_distances_inter(UAV_path_segment)\n",
    "                if i == 1:\n",
    "                    UGV_outer_path.append([ordered_points[0], chord_start])\n",
    "                else:\n",
    "                    UGV_outer_path.append([prev_chord_end, chord_start])\n",
    "                    \n",
    "            if chord_end:\n",
    "                UGV_path.append(chord_end)\n",
    "            # assuming compute_distance function is defined previously\n",
    "            inter_distance_without_drone = compute_distance(chord_start, final_meeting_point)\n",
    "            inter_distance_with_drone = compute_distance(final_meeting_point, chord_end)\n",
    "            UGVD_inter_without_drone.append(inter_distance_without_drone)\n",
    "            UGVD_inter_with_drone.append(inter_distance_with_drone)\n",
    "            prev_chord_end = chord_end\n",
    "\n",
    "    UGV_path.append(ordered_points[-1])\n",
    "    UGV_outer_path.append([chord_end,ordered_points[-1]])\n",
    "    \n",
    "    return radius_set, UGV_path, UAV_path, UGV_outer_path, UGVD_inter_without_drone, UGVD_inter_with_drone, final_wait_time\n",
    "\n"
   ]
  },
  {
   "cell_type": "code",
   "execution_count": 18,
   "metadata": {},
   "outputs": [],
   "source": [
    "def compute_path_for_one_point(ordered_points, point_index, radius, speed_ugv, speed_uav, survey_time):\n",
    "    if point_index <= 0 or point_index >= len(ordered_points) - 1:\n",
    "        raise ValueError(\"Invalid point index. It should be between 1 and len(ordered_points) - 2.\")\n",
    "    \n",
    "    UGV_outer_path = []\n",
    "    UGV_path = [ordered_points[0]]\n",
    "    UAV_path = []\n",
    "    UGVD_inter_without_drone = []\n",
    "    UGVD_inter_with_drone = []\n",
    "    chord_end = None\n",
    "    prev_chord_end = None\n",
    "    final_wait_set = []\n",
    "    \n",
    "    \n",
    "    point = ordered_points[point_index]\n",
    "    \n",
    "    # Assuming angle_between_points and point_on_circle functions are defined previously\n",
    "    angle = angle_between_points(ordered_points[point_index - 1], ordered_points[point_index])\n",
    "    nextangle = angle_between_points(ordered_points[point_index], ordered_points[point_index + 1])\n",
    "    chord_start = point_on_circle(ordered_points[point_index], angle - np.pi, radius)\n",
    "    chord_end = point_on_circle(ordered_points[point_index], nextangle, radius)\n",
    "    \n",
    "    \n",
    "    if point_index > 1 and circles_overlap(ordered_points[point_index], radius, ordered_points[point_index - 1], radius):\n",
    "        chord_start = prev_chord_end\n",
    "\n",
    "    # Assuming find_meeting_point_with_survey_final function is defined previously\n",
    "    final_meeting_point, final_wait_time = find_meeting_point_with_survey_final(\n",
    "        ordered_points[point_index], radius, chord_start, chord_end, \n",
    "        speed_ugv, speed_uav, survey_time\n",
    "    )\n",
    "    final_wait_set.append(final_wait_time)\n",
    "    \n",
    "    if chord_start:\n",
    "        UAV_path_segment = [chord_start, point, final_meeting_point]\n",
    "        UAV_path.append(UAV_path_segment)\n",
    "        UGV_path.append(chord_start)\n",
    "\n",
    "        # Assuming calculate_UAV_inter_distances_inter function is defined previously\n",
    "        UAV_path_segment_distance = calculate_UAV_inter_distances_inter(UAV_path_segment)\n",
    "        if point_index == 1:\n",
    "            UGV_outer_path.append([ordered_points[0], chord_start])\n",
    "        else:\n",
    "            UGV_outer_path.append([prev_chord_end, chord_start])\n",
    "                    \n",
    "    if chord_end:\n",
    "        UGV_path.append(chord_end)\n",
    "\n",
    "    # Assuming compute_distance function is defined previously\n",
    "    inter_distance_without_drone = compute_distance(chord_start, final_meeting_point)\n",
    "    inter_distance_with_drone = compute_distance(final_meeting_point, chord_end)\n",
    "    UGVD_inter_without_drone.append(inter_distance_without_drone)\n",
    "    UGVD_inter_with_drone.append(inter_distance_with_drone)\n",
    "    \n",
    "    return radius, UGV_path, UAV_path, UGV_outer_path, UGVD_inter_without_drone, UGVD_inter_with_drone, final_wait_set\n",
    "\n"
   ]
  },
  {
   "cell_type": "code",
   "execution_count": 19,
   "metadata": {},
   "outputs": [],
   "source": [
    "def calculate_total_wait_time(final_wait_time):\n",
    "    return sum(final_wait_time)\n",
    "def calculate_UGV_total_distance(UGV_path, compute_distance):\n",
    "    UGV_total_distance = 0\n",
    "    for i in range(len(UGV_path) - 1):\n",
    "        UGV_total_distance += compute_distance(UGV_path[i], UGV_path[i + 1])\n",
    "    return UGV_total_distance\n",
    "\n",
    "def calculate_UGV_outer_path_distances(UGV_outer_path):\n",
    "    UGV_outer_path_distances = []\n",
    "    for group in UGV_outer_path:\n",
    "        UGV_outer_path_distances.append(compute_distance(group[0], group[1]))\n",
    "    return UGV_outer_path_distances\n",
    "\n",
    "def calculate_UAV_inter_distances(UAV_path):\n",
    "    UAV_inter_distances = []\n",
    "    for group in UAV_path:\n",
    "        group_distance = 0\n",
    "        for i in range(len(group) - 1):\n",
    "            group_distance += compute_distance(group[i], group[i + 1])\n",
    "        UAV_inter_distances.append(group_distance)\n",
    "    return format_list_to_decimal(UAV_inter_distances)\n"
   ]
  },
  {
   "cell_type": "code",
   "execution_count": 20,
   "metadata": {},
   "outputs": [],
   "source": [
    "\n",
    "UGVdistances = []\n",
    "UAV_total_distances = []\n",
    "UAV_distances_set = []\n",
    "ordered_points = compute_ordered_points(plan_output, waypoints)\n",
    "result = []"
   ]
  },
  {
   "cell_type": "code",
   "execution_count": 21,
   "metadata": {},
   "outputs": [],
   "source": [
    "radius, UGV_path, UAV_path, UGV_outer_path, UGVD_inter_without_drone, UGVD_inter_with_drone, final_wait_set = compute_path_for_one_point(ordered_points, 2, 5, speed_ugv, speed_uav, survey_time)"
   ]
  },
  {
   "cell_type": "code",
   "execution_count": 22,
   "metadata": {},
   "outputs": [
    {
     "data": {
      "text/plain": [
       "[[None, (13.787321874818335, 25.149287499273342)]]"
      ]
     },
     "execution_count": 22,
     "metadata": {},
     "output_type": "execute_result"
    }
   ],
   "source": [
    "UGV_outer_path"
   ]
  },
  {
   "cell_type": "code",
   "execution_count": 23,
   "metadata": {},
   "outputs": [
    {
     "name": "stdout",
     "output_type": "stream",
     "text": [
      "Error with points: None and (13.787321874818335, 25.149287499273342)\n"
     ]
    },
    {
     "ename": "TypeError",
     "evalue": "cannot unpack non-iterable NoneType object",
     "output_type": "error",
     "traceback": [
      "\u001b[0;31m---------------------------------------------------------------------------\u001b[0m",
      "\u001b[0;31mTypeError\u001b[0m                                 Traceback (most recent call last)",
      "Cell \u001b[0;32mIn[23], line 3\u001b[0m\n\u001b[1;32m      1\u001b[0m total_wait_time \u001b[39m=\u001b[39m calculate_total_wait_time(final_wait_set)\n\u001b[1;32m      2\u001b[0m UGV_total_distance \u001b[39m=\u001b[39m calculate_UGV_total_distance(UGV_path, compute_distance)\n\u001b[0;32m----> 3\u001b[0m UGV_outer_path_distances \u001b[39m=\u001b[39m calculate_UGV_outer_path_distances(UGV_outer_path)\n\u001b[1;32m      5\u001b[0m UGV_outer_path_E_cost \u001b[39m=\u001b[39m [distance \u001b[39m*\u001b[39m UGV_E_cost_with_UAV \u001b[39mfor\u001b[39;00m distance \u001b[39min\u001b[39;00m UGV_outer_path_distances]\n\u001b[1;32m      6\u001b[0m total_time \u001b[39m=\u001b[39m total_wait_time \u001b[39m+\u001b[39m UGV_total_distance \u001b[39m/\u001b[39m speed_ugv\n",
      "Cell \u001b[0;32mIn[19], line 12\u001b[0m, in \u001b[0;36mcalculate_UGV_outer_path_distances\u001b[0;34m(UGV_outer_path)\u001b[0m\n\u001b[1;32m     10\u001b[0m UGV_outer_path_distances \u001b[39m=\u001b[39m []\n\u001b[1;32m     11\u001b[0m \u001b[39mfor\u001b[39;00m group \u001b[39min\u001b[39;00m UGV_outer_path:\n\u001b[0;32m---> 12\u001b[0m     UGV_outer_path_distances\u001b[39m.\u001b[39mappend(compute_distance(group[\u001b[39m0\u001b[39;49m], group[\u001b[39m1\u001b[39;49m]))\n\u001b[1;32m     13\u001b[0m \u001b[39mreturn\u001b[39;00m UGV_outer_path_distances\n",
      "File \u001b[0;32m~/Desktop/codetest/Landing robot/Codes/cleanout_code/Common_function.py:19\u001b[0m, in \u001b[0;36mcompute_distance\u001b[0;34m(point1, point2)\u001b[0m\n\u001b[1;32m     17\u001b[0m \u001b[39mdef\u001b[39;00m \u001b[39mcompute_distance\u001b[39m(point1, point2):\n\u001b[1;32m     18\u001b[0m     \u001b[39mtry\u001b[39;00m:\n\u001b[0;32m---> 19\u001b[0m         x1, y1 \u001b[39m=\u001b[39m point1\n\u001b[1;32m     20\u001b[0m         x2, y2 \u001b[39m=\u001b[39m point2\n\u001b[1;32m     21\u001b[0m         \u001b[39mreturn\u001b[39;00m math\u001b[39m.\u001b[39msqrt((x2 \u001b[39m-\u001b[39m x1)\u001b[39m*\u001b[39m\u001b[39m*\u001b[39m\u001b[39m2\u001b[39m \u001b[39m+\u001b[39m (y2 \u001b[39m-\u001b[39m y1)\u001b[39m*\u001b[39m\u001b[39m*\u001b[39m\u001b[39m2\u001b[39m)\n",
      "\u001b[0;31mTypeError\u001b[0m: cannot unpack non-iterable NoneType object"
     ]
    }
   ],
   "source": [
    "total_wait_time = calculate_total_wait_time(final_wait_set)\n",
    "UGV_total_distance = calculate_UGV_total_distance(UGV_path, compute_distance)\n",
    "UGV_outer_path_distances = calculate_UGV_outer_path_distances(UGV_outer_path)\n",
    "\n",
    "UGV_outer_path_E_cost = [distance * UGV_E_cost_with_UAV for distance in UGV_outer_path_distances]\n",
    "total_time = total_wait_time + UGV_total_distance / speed_ugv\n",
    "\n",
    "\n",
    "UAV_inter_distances = calculate_UAV_inter_distances(UAV_path)\n",
    "UAV_inter_distances = [float(distance) for distance in UAV_inter_distances]\n",
    "UAV_inter_E_cost = [(distance * UAV_E_cost) + UAV_E_s_cost for distance in UAV_inter_distances]\n",
    "UAV_distances_set = calculate_UAV_distances(UAV_path, compute_distance)\n",
    "\n",
    "UGV_energy_remaining, UAV_energy_remaining = calculate_energy_remaining(Total_E_UGV, Total_E_UAV, UGV_outer_path_distances, UGVD_inter_with_drone, UAV_distances_set, UAV_path, UAV_E_cost, UAV_E_s_cost, UGVD_inter_without_drone, UGV_E_cost_without_UAV, Charging_speed)\n",
    "\n",
    "# print(f\"radius_combination:{radius_combination}\")\n",
    "if UGV_energy_remaining == -1 or UAV_energy_remaining == -1:\n",
    "    \n",
    "    result.append((radius_set,None))\n",
    "else:\n",
    "    result.append((radius_set,round(total_time,2)))"
   ]
  },
  {
   "cell_type": "code",
   "execution_count": null,
   "metadata": {},
   "outputs": [],
   "source": [
    "UGV_path"
   ]
  },
  {
   "cell_type": "code",
   "execution_count": null,
   "metadata": {},
   "outputs": [],
   "source": [
    "UAV_path"
   ]
  },
  {
   "cell_type": "code",
   "execution_count": null,
   "metadata": {},
   "outputs": [],
   "source": [
    "UGV_outer_path"
   ]
  },
  {
   "cell_type": "code",
   "execution_count": null,
   "metadata": {},
   "outputs": [],
   "source": [
    "UGVD_inter_without_drone"
   ]
  },
  {
   "cell_type": "code",
   "execution_count": null,
   "metadata": {},
   "outputs": [],
   "source": [
    "UGVD_inter_with_drone"
   ]
  }
 ],
 "metadata": {
  "kernelspec": {
   "display_name": "Python 3",
   "language": "python",
   "name": "python3"
  },
  "language_info": {
   "codemirror_mode": {
    "name": "ipython",
    "version": 3
   },
   "file_extension": ".py",
   "mimetype": "text/x-python",
   "name": "python",
   "nbconvert_exporter": "python",
   "pygments_lexer": "ipython3",
   "version": "3.10.11"
  },
  "orig_nbformat": 4
 },
 "nbformat": 4,
 "nbformat_minor": 2
}
