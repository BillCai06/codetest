{
 "cells": [
  {
   "cell_type": "code",
   "execution_count": 1,
   "metadata": {},
   "outputs": [
    {
     "data": {
      "text/plain": [
       "array([[0.        , 5.90363632, 6.83673944, 4.40112356, 1.82634369,\n",
       "        0.35172153],\n",
       "       [5.90363632, 0.        , 2.56127322, 1.91099309, 4.61799134,\n",
       "        5.67653559],\n",
       "       [6.83673944, 2.56127322, 0.        , 2.56285075, 5.11711365,\n",
       "        6.52480323],\n",
       "       [4.40112356, 1.91099309, 2.56285075, 0.        , 2.85764224,\n",
       "        4.11857344],\n",
       "       [1.82634369, 4.61799134, 5.11711365, 2.85764224, 0.        ,\n",
       "        1.48110574],\n",
       "       [0.35172153, 5.67653559, 6.52480323, 4.11857344, 1.48110574,\n",
       "        0.        ]])"
      ]
     },
     "execution_count": 1,
     "metadata": {},
     "output_type": "execute_result"
    }
   ],
   "source": [
    "import numpy as np\n",
    "\n",
    "# Given data\n",
    "np.random.seed(1)\n",
    "points = np.random.rand(6, 2)\n",
    "data = points * 10\n",
    "\n",
    "# Function to compute distance between two points\n",
    "def compute_distance(p1, p2):\n",
    "    return np.sqrt((p2[0] - p1[0])**2 + (p2[1] - p1[1])**2)\n",
    "\n",
    "# Compute the distance matrix\n",
    "distance_matrix = np.zeros((len(data), len(data)))\n",
    "for i in range(len(data)):\n",
    "    for j in range(len(data)):\n",
    "        distance_matrix[i, j] = compute_distance(data[i], data[j])\n",
    "\n",
    "distance_matrix\n"
   ]
  },
  {
   "cell_type": "code",
   "execution_count": 7,
   "metadata": {},
   "outputs": [
    {
     "data": {
      "text/plain": [
       "[[0, 1], [2, 3, 4], [5]]"
      ]
     },
     "execution_count": 7,
     "metadata": {},
     "output_type": "execute_result"
    }
   ],
   "source": [
    "\n",
    "def compute_distance_from_point_to_set(point, points_set, data):\n",
    "    \"\"\"Compute the average distance from a single point to a set of points.\"\"\"\n",
    "    return np.mean([compute_distance(point, data[p]) for p in points_set])\n",
    "\n",
    "def group_points(distance_matrix, initial_threshold, a, b):\n",
    "    \"\"\"\n",
    "    Group points based on the given threshold formula.\n",
    "    \n",
    "    Parameters:\n",
    "    - distance_matrix: pairwise distance between points\n",
    "    - initial_threshold: initial value of the threshold\n",
    "    - a, b: constants in the threshold formula\n",
    "    \n",
    "    Returns:\n",
    "    - List of groups. Each group is represented as a list of point indices.\n",
    "    \"\"\"\n",
    "    n = len(distance_matrix)\n",
    "    ungrouped_points = set(range(n))  # All points are initially ungrouped\n",
    "    groups = []\n",
    "    \n",
    "    while ungrouped_points:\n",
    "        current_group = [ungrouped_points.pop()]  # Start a new group with a random point\n",
    "        group_center = np.mean([data[p] for p in current_group], axis=0)\n",
    "        points_added = True\n",
    "        \n",
    "        while points_added:  # Try adding points to the current group\n",
    "            points_added = False\n",
    "            distances_to_group = {point: compute_distance_from_point_to_set(group_center, current_group, data) for point in ungrouped_points}\n",
    "            # Sort points by distance to the group center\n",
    "            sorted_points = sorted(distances_to_group.keys(), key=lambda p: distances_to_group[p])\n",
    "            \n",
    "            for point in sorted_points:\n",
    "                # Compute threshold for the current group\n",
    "                num_points = len(current_group)\n",
    "                avg_distance = sum(distance_matrix[p1][p2] for p1 in current_group for p2 in current_group) / (num_points * num_points)\n",
    "                threshold = initial_threshold - a * (num_points - 1) - b * avg_distance\n",
    "                \n",
    "                if distances_to_group[point] <= threshold:\n",
    "                    current_group.append(point)\n",
    "                    ungrouped_points.remove(point)\n",
    "                    # Update the group center to the mean of the current group\n",
    "                    group_center = np.mean([data[p] for p in current_group], axis=0)\n",
    "                    points_added = True\n",
    "                    break  # Try to add another point to the current group\n",
    "        \n",
    "        groups.append(current_group)\n",
    "    \n",
    "    return groups\n",
    "\n",
    "# Test the function with sample parameters\n",
    "groups = group_points(distance_matrix, initial_threshold=3, a=0.5, b=0.5)\n",
    "groups\n"
   ]
  },
  {
   "cell_type": "code",
   "execution_count": 11,
   "metadata": {},
   "outputs": [
    {
     "data": {
      "text/plain": [
       "((0, 1, 2, 3, 4, 5), 15.718229796858594)"
      ]
     },
     "execution_count": 11,
     "metadata": {},
     "output_type": "execute_result"
    }
   ],
   "source": [
    "from itertools import permutations\n",
    "from scipy.spatial import distance\n",
    "\n",
    "def tsp_bruteforce(distance_matrix):\n",
    "    n = len(distance_matrix)\n",
    "    min_path = None\n",
    "    min_distance = float('inf')\n",
    "\n",
    "    # Check all possible permutations of the points (excluding the starting point)\n",
    "    for perm in permutations(range(1, n)):\n",
    "        current_distance = distance_matrix[0][perm[0]] + distance_matrix[perm[-1]][0]  # starting and ending at point 0\n",
    "        for i in range(len(perm) - 1):\n",
    "            current_distance += distance_matrix[perm[i]][perm[i+1]]\n",
    "        if current_distance < min_distance:\n",
    "            min_distance = current_distance\n",
    "            min_path = (0,) + perm\n",
    "\n",
    "    return min_path, min_distance\n",
    "\n",
    "tsp_path, tsp_distance = tsp_bruteforce(distance_matrix)\n",
    "tsp_path, tsp_distance\n"
   ]
  },
  {
   "cell_type": "code",
   "execution_count": 3,
   "metadata": {},
   "outputs": [
    {
     "data": {
      "text/plain": [
       "[[0, 4, 5], [1], [2], [3]]"
      ]
     },
     "execution_count": 3,
     "metadata": {},
     "output_type": "execute_result"
    }
   ],
   "source": [
    "class UnionFind:\n",
    "    def __init__(self, n):\n",
    "        self.parent = list(range(n))\n",
    "        self.rank = [0] * n\n",
    "        \n",
    "    def find(self, x):\n",
    "        if self.parent[x] != x:\n",
    "            self.parent[x] = self.find(self.parent[x])\n",
    "        return self.parent[x]\n",
    "    \n",
    "    def union(self, x, y):\n",
    "        rootX = self.find(x)\n",
    "        rootY = self.find(y)\n",
    "        \n",
    "        if rootX != rootY:\n",
    "            if self.rank[rootX] > self.rank[rootY]:\n",
    "                self.parent[rootY] = rootX\n",
    "            else:\n",
    "                self.parent[rootX] = rootY\n",
    "                if self.rank[rootX] == self.rank[rootY]:\n",
    "                    self.rank[rootY] += 1\n",
    "\n",
    "def group_points_union_find(distance_matrix, initial_threshold, a, b):\n",
    "    n = len(distance_matrix)\n",
    "    uf = UnionFind(n)\n",
    "    \n",
    "    for i in range(n):\n",
    "        for j in range(i+1, n):\n",
    "            num_points = 2  # Start with the two points being considered\n",
    "            avg_distance = distance_matrix[i][j]\n",
    "            threshold = initial_threshold - a * (num_points - 1) - b * avg_distance\n",
    "            \n",
    "            if distance_matrix[i][j] <= threshold:\n",
    "                uf.union(i, j)\n",
    "    \n",
    "    # Extract distinct sets/groups from the UnionFind structure\n",
    "    groups_dict = {}\n",
    "    for i in range(n):\n",
    "        root = uf.find(i)\n",
    "        if root not in groups_dict:\n",
    "            groups_dict[root] = []\n",
    "        groups_dict[root].append(i)\n",
    "    \n",
    "    return list(groups_dict.values())\n",
    "\n",
    "# Test the function with sample parameters\n",
    "groups_uf = group_points_union_find(distance_matrix, initial_threshold=3, a=0.5, b=0.5)\n",
    "groups_uf\n"
   ]
  },
  {
   "cell_type": "code",
   "execution_count": 9,
   "metadata": {},
   "outputs": [
    {
     "data": {
      "image/png": "[encoded data removed]",
      "text/plain": [
       "<Figure size 1000x700 with 1 Axes>"
      ]
     },
     "metadata": {},
     "output_type": "display_data"
    }
   ],
   "source": [
    "import matplotlib.pyplot as plt\n",
    "\n",
    "def visualize_groups(data, groups):\n",
    "    plt.figure(figsize=(10, 7))\n",
    "    \n",
    "    # Plot each group with a distinct color\n",
    "    for group in groups:\n",
    "        group_data = [data[i] for i in group]\n",
    "        group_data = np.array(group_data)\n",
    "        plt.scatter(group_data[:, 0], group_data[:, 1], s=100, label=f'Group {groups.index(group)+1}')\n",
    "        \n",
    "        # Plot the mean of the group\n",
    "        group_mean = np.mean(group_data, axis=0)\n",
    "        plt.scatter(group_mean[0], group_mean[1], s=200, marker='x', color='black')\n",
    "    \n",
    "    plt.title('Grouped Points with Group Centers (X)')\n",
    "    plt.xlabel('X')\n",
    "    plt.ylabel('Y')\n",
    "    plt.legend()\n",
    "    plt.grid(True)\n",
    "    plt.show()\n",
    "\n",
    "visualize_groups(data, groups)\n"
   ]
  },
  {
   "cell_type": "code",
   "execution_count": 13,
   "metadata": {},
   "outputs": [
    {
     "data": {
      "text/plain": [
       "[[0, 4], [1, 3], [2]]"
      ]
     },
     "execution_count": 13,
     "metadata": {},
     "output_type": "execute_result"
    }
   ],
   "source": [
    "def group_points_tsp_order(distance_matrix, initial_threshold, a, b, tsp_order):\n",
    "    \"\"\"\n",
    "    Group points based on the given threshold formula and TSP order.\n",
    "    \n",
    "    Parameters:\n",
    "    - distance_matrix: pairwise distance between points\n",
    "    - initial_threshold: initial value of the threshold\n",
    "    - a, b: constants in the threshold formula\n",
    "    - tsp_order: order of points as determined by TSP\n",
    "    \n",
    "    Returns:\n",
    "    - List of groups. Each group is represented as a list of point indices.\n",
    "    \"\"\"\n",
    "    n = len(distance_matrix)\n",
    "    ungrouped_points = set(tsp_order)  # All points are initially ungrouped, but follow TSP order\n",
    "    groups = []\n",
    "    \n",
    "    while ungrouped_points:\n",
    "        current_group = [ungrouped_points.pop()]  # Start a new group with the next point in TSP order\n",
    "        group_center = np.mean([data[p] for p in current_group], axis=0)\n",
    "        points_added = True\n",
    "        \n",
    "        while points_added:  # Try adding points to the current group\n",
    "            points_added = False\n",
    "            \n",
    "            # Extract distances from distance matrix and sort by distance\n",
    "            distances_to_group = [(point, distance_matrix[current_group[-1]][point]) for point in ungrouped_points]\n",
    "            sorted_points = [point for point, _ in sorted(distances_to_group, key=lambda x: x[1])]\n",
    "            \n",
    "            for point in sorted_points:\n",
    "                # Compute threshold for the current group\n",
    "                num_points = len(current_group)\n",
    "                avg_distance = sum(distance_matrix[p1][p2] for p1 in current_group for p2 in current_group) / (num_points * num_points)\n",
    "                threshold = initial_threshold - a * (num_points - 1) - b * avg_distance\n",
    "                \n",
    "                if distance_matrix[current_group[-1]][point] <= threshold:\n",
    "                    current_group.append(point)\n",
    "                    ungrouped_points.remove(point)\n",
    "                    # Update the group center to the mean of the current group\n",
    "                    group_center = np.mean([data[p] for p in current_group], axis=0)\n",
    "                    points_added = True\n",
    "                    break  # Try to add another point to the current group\n",
    "        \n",
    "        groups.append(current_group)\n",
    "    \n",
    "    return groups\n",
    "\n",
    "# Test the function with sample parameters and TSP order\n",
    "groups_tsp_order = group_points_tsp_order(distance_matrix, initial_threshold=3, a=0.5, b=0.5, tsp_order=tsp_path[:-1])  # Exclude the last point in tsp_path since it's a repeat of the starting point\n",
    "groups_tsp_order\n"
   ]
  },
  {
   "cell_type": "code",
   "execution_count": 14,
   "metadata": {},
   "outputs": [
    {
     "data": {
      "image/png": "[encoded data removed]",
      "text/plain": [
       "<Figure size 1000x700 with 1 Axes>"
      ]
     },
     "metadata": {},
     "output_type": "display_data"
    }
   ],
   "source": [
    "visualize_groups(data, groups_tsp_order\n",
    ")"
   ]
  }
 ],
 "metadata": {
  "kernelspec": {
   "display_name": "base",
   "language": "python",
   "name": "python3"
  },
  "language_info": {
   "codemirror_mode": {
    "name": "ipython",
    "version": 3
   },
   "file_extension": ".py",
   "mimetype": "text/x-python",
   "name": "python",
   "nbconvert_exporter": "python",
   "pygments_lexer": "ipython3",
   "version": "3.10.11"
  },
  "orig_nbformat": 4
 },
 "nbformat": 4,
 "nbformat_minor": 2
}
