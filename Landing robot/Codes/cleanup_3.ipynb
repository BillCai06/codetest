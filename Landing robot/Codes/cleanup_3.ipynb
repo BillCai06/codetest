{
 "cells": [
  {
   "cell_type": "code",
   "execution_count": 2,
   "metadata": {},
   "outputs": [],
   "source": [
    "import numpy as np\n",
    "from Common_function import *\n",
    "import matplotlib.pyplot as plt\n",
    "from itertools import product\n",
    "import itertools\n",
    "x = 3  #how are is the distance set\n",
    "Total_E_UGV = 500000\n",
    "Total_E_UAV = 15000\n",
    "UAV_E_cost = 1250\n",
    "UAV_E_s_cost = 2500\n",
    "UGV_E_cost_with_UAV = 1000\n",
    "UGV_E_cost_without_UAV = 800\n",
    "Charging_speed = 1000\n",
    "speed_uav =30\n",
    "speed_ugv =10\n",
    "survey_time = 1/6\n",
    "waypoints = [(20, 10), (24, 37), (36, 43), (8, 8), (0, 50), (30, 44), (28, 4), (32, 25)]\n",
    "# waypoints = [(20,10), (10,10),(15,30)]\n",
    "# plan_output = \"0 -> 1 -> 2 -> 0\"\n",
    "plan_output = \"0 -> 3 -> 4 -> 1 -> 5 -> 2 -> 7 -> 6 -> 0\"\n",
    "max_radius = ((Total_E_UAV - UAV_E_s_cost) / UAV_E_cost) / 2\n",
    "radii = np.linspace(1, max_radius, x)\n",
    "ordered_points = [waypoints[int(node)] for node in plan_output.split() if node.isdigit()]\n",
    "ordered_points.append(ordered_points[0])\n"
   ]
  },
  {
   "cell_type": "markdown",
   "metadata": {},
   "source": [
    "Idea to do:\n",
    "1. 首先是dft,radius从大到小排列，然后设置当前最小值跳过，但是这个跳过很有可能只发生在树的最后一层，所有还是得花很多时间，\n",
    "\n",
    "2. 至于没有的TSP的情况，只需要把plan output 遍历就行 就是大小是 (n-1)!,如果不优化，算到天荒地老，所有我把顺序换成了优先算TSP选的结果，如果后面的更慢，就可以在最后一层跳过了\n",
    "\n",
    "3. MCTS ideas:\n",
    " Traverse the tree from the root using the UCB1 formula,expand it by adding child nodes for each possible radius from the next layer\n",
    " \n",
    "MCTS Steps:\n",
    "    Selection(done)\n",
    "    Expansion(done)\n",
    "    Simulation(working)\n",
    "    Backpropagation(working)\n",
    "\n",
    "Bug： (fixed)\n",
    "不知道为什么radius combination的结果和实际的顺序结果差了一位：\n",
    "Output是：\n",
    "[5.0, 5.0, 1.0, 1.0, 5.0, 5.0, 3.0]\n",
    "实际情况是：\n",
    "[5.0, 1.0, 1.0, 5.0, 5.0, 3.0，5.0]\n",
    "就好像是填list的时候是FIFO 然最后一个位置填错了一样,但是后面的计算都是正确的，我估计会直接写一个修改"
   ]
  },
  {
   "cell_type": "code",
   "execution_count": 3,
   "metadata": {},
   "outputs": [],
   "source": [
    "\n",
    "def generate_combinations(plan_output):\n",
    "    # Split the plan_output by '->' and remove spaces\n",
    "    nodes = [node.strip() for node in plan_output.split('->')]\n",
    "    \n",
    "    # Exclude the starting and ending '0' for permutations\n",
    "    internal_nodes = nodes[1:-1]\n",
    "    \n",
    "    # Generate all permutations of the internal nodes\n",
    "    permutations = itertools.permutations(internal_nodes)\n",
    "    \n",
    "    # Construct the paths\n",
    "    paths = ['0 -> ' + ' -> '.join(perm) + ' -> 0' for perm in permutations]\n",
    "    \n",
    "    return paths\n"
   ]
  },
  {
   "cell_type": "code",
   "execution_count": 4,
   "metadata": {},
   "outputs": [
    {
     "data": {
      "text/plain": [
       "(['0 -> 3 -> 4 -> 1 -> 5 -> 2 -> 7 -> 6 -> 0',\n",
       "  '0 -> 3 -> 4 -> 1 -> 5 -> 2 -> 6 -> 7 -> 0',\n",
       "  '0 -> 3 -> 4 -> 1 -> 5 -> 7 -> 2 -> 6 -> 0',\n",
       "  '0 -> 3 -> 4 -> 1 -> 5 -> 7 -> 6 -> 2 -> 0',\n",
       "  '0 -> 3 -> 4 -> 1 -> 5 -> 6 -> 2 -> 7 -> 0'],\n",
       " 5040)"
      ]
     },
     "execution_count": 4,
     "metadata": {},
     "output_type": "execute_result"
    }
   ],
   "source": [
    "# Define the plan_output string\n",
    "plan_output = \"0 -> 3 -> 4 -> 1 -> 5 -> 2 -> 7 -> 6 -> 0\"\n",
    "\n",
    "# Test the function with the provided plan_output\n",
    "plan_result = generate_combinations(plan_output)\n",
    "plan_result[:5], len(plan_result)  # Displaying first 5 results and the total number of combinations\n"
   ]
  },
  {
   "cell_type": "code",
   "execution_count": 5,
   "metadata": {},
   "outputs": [],
   "source": [
    "\n",
    "def calculate_energy_remaining_inter(Total_E_UGV, Total_E_UAV, UGV_outer_path_distances, UGVD_inter_with_drone, UAV_distances_set, UAV_path, UAV_E_cost, UAV_E_s_cost, UGVD_inter_without_drone, UGV_E_cost_without_UAV, Charging_speed):\n",
    "    UGV_energy_remaining = Total_E_UGV\n",
    "    UAV_energy_remaining = Total_E_UAV\n",
    "\n",
    "    for i in range(len(UGV_outer_path_distances)-1):\n",
    "        charging_distance = UGVD_inter_with_drone[i] + UGV_outer_path_distances[i+1]\n",
    "        UAV_distances = UAV_distances_set[i]\n",
    "        \n",
    "        UAV_Trip_Cost = UAV_distances * UAV_E_cost + UAV_E_s_cost * (len(UAV_path[i])-2)\n",
    "        UGV_Trip_Cost = UGVD_inter_without_drone[i] * UGV_E_cost_without_UAV\n",
    "        \n",
    "        UAV_energy_remaining -= UAV_Trip_Cost \n",
    "        UGV_energy_remaining -= UGV_Trip_Cost\n",
    "        \n",
    "        if UAV_energy_remaining < Total_E_UAV:\n",
    "            charge_amount = min(Charging_speed * charging_distance , UAV_Trip_Cost, UGV_energy_remaining)\n",
    "            UGV_energy_remaining -= charge_amount\n",
    "            UAV_energy_remaining += charge_amount\n",
    "        \n",
    "        if UGV_energy_remaining < 0 or UAV_energy_remaining < 0:\n",
    "            return -1, -1  # Indicating mission failed for both\n",
    "\n",
    "    return UGV_energy_remaining, UAV_energy_remaining"
   ]
  },
  {
   "cell_type": "code",
   "execution_count": 6,
   "metadata": {},
   "outputs": [],
   "source": [
    "def calculate_UAV_inter_distances_inter(UAV_path):\n",
    "    UAV_inter_distances = 0\n",
    "    group_distance=0\n",
    "    for i in range(len(UAV_path) - 1):\n",
    "        group_distance += compute_distance(UAV_path[i], UAV_path[i + 1])\n",
    "    UAV_inter_distances=group_distance\n",
    "    return UAV_inter_distances"
   ]
  },
  {
   "cell_type": "code",
   "execution_count": 21,
   "metadata": {},
   "outputs": [],
   "source": [
    "\n",
    "def compute_optimized_paths_for_radius_updated_v4(ordered_points, radius_combination, speed_ugv, speed_uav, survey_time):\n",
    "    UGV_outer_path = []\n",
    "    UGV_path = [ordered_points[0]]\n",
    "    UAV_path = []\n",
    "    UGVD_inter_without_drone = []\n",
    "    UGVD_inter_with_drone = []\n",
    "    chord_end = None\n",
    "    prev_chord_end = None\n",
    "    final_wait_set = []\n",
    "    radius_set = []\n",
    "    for i, point in enumerate(ordered_points[:-1]):\n",
    "        \n",
    "        current_radius = radius_combination[i % len(radius_combination)]\n",
    "        # print(radius_combination,current_radius)\n",
    "        # print(i, point)\n",
    "        \n",
    "        # print(current_radius)\n",
    "        # Exclude the start and end points from circles\n",
    "        if 0 < i < len(ordered_points) - 2:\n",
    "            angle = angle_between_points(ordered_points[i-1], ordered_points[i])\n",
    "            nextangle = angle_between_points(ordered_points[i], ordered_points[i+1])\n",
    "            chord_start = point_on_circle(ordered_points[i], angle - np.pi, current_radius)\n",
    "            chord_end = point_on_circle(ordered_points[i], nextangle, current_radius)\n",
    "            radius_set.append(current_radius)\n",
    "            if prev_chord_end and i > 1 and circles_overlap(ordered_points[i], current_radius, ordered_points[i-1], radius_combination[(i-1) % len(radius_combination)]):\n",
    "                chord_start = prev_chord_end\n",
    "\n",
    "            final_meeting_point, final_wait_time = find_meeting_point_with_survey_final(\n",
    "                ordered_points[i], current_radius, chord_start, chord_end, \n",
    "                speed_ugv, speed_uav, survey_time\n",
    "            )\n",
    "            final_wait_set.append(final_wait_time)\n",
    "            # Update paths based on the provided structure\n",
    "            if chord_start:\n",
    "                UAV_path_segment = [chord_start, point, final_meeting_point]\n",
    "                UAV_path.append(UAV_path_segment)\n",
    "                UGV_path.append(chord_start)\n",
    "                UAV_path_segment_distance = calculate_UAV_inter_distances_inter(UAV_path_segment)\n",
    "                # Update UGV_outer_path as per the new structure\n",
    "                if i == 1:\n",
    "                    UGV_outer_path.append([ordered_points[0], chord_start])\n",
    "                else:\n",
    "                    UGV_outer_path.append([prev_chord_end, chord_start])\n",
    "                \n",
    "                    \n",
    "                \n",
    "            if chord_end:\n",
    "                UGV_path.append(chord_end)\n",
    "            inter_distance_without_drone = compute_distance(chord_start, final_meeting_point)\n",
    "            inter_distance_with_drone = compute_distance(final_meeting_point, chord_end)\n",
    "            UGVD_inter_without_drone.append(inter_distance_without_drone)\n",
    "            UGVD_inter_with_drone.append(inter_distance_with_drone)\n",
    "            prev_chord_end = chord_end\n",
    "\n",
    "            \n",
    "            # print(UAV_path_segment_distance)\n",
    "            # print ( UGV_outer_path_distances, inter_distance_with_drone, UAV_distances_set, UAV_path_segment, UAV_E_cost, UAV_E_s_cost, UGVD_inter_without_drone, UGV_E_cost_without_UAV, Charging_speed)\n",
    "            # UGV_energy_remaining, UAV_energy_remaining = calculate_energy_remaining_inter(Total_E_UGV, Total_E_UAV, UGV_outer_path_distances, UGVD_inter_with_drone, UAV_distances_set, UAV_path, UAV_E_cost, UAV_E_s_cost, UGVD_inter_without_drone, UGV_E_cost_without_UAV, Charging_speed)\n",
    "\n",
    "    # Adding the last point to the paths\n",
    "    UGV_path.append(ordered_points[-1])\n",
    "    UGV_outer_path.append([chord_end,ordered_points[-1]])\n",
    "    \n",
    "    return radius_set ,UGV_path, UAV_path, UGV_outer_path, UGVD_inter_without_drone, UGVD_inter_with_drone,final_wait_set"
   ]
  },
  {
   "cell_type": "code",
   "execution_count": 22,
   "metadata": {},
   "outputs": [],
   "source": [
    "def calculate_total_wait_time(final_wait_time):\n",
    "    return sum(final_wait_time)\n",
    "def calculate_UGV_total_distance(UGV_path, compute_distance):\n",
    "    UGV_total_distance = 0\n",
    "    for i in range(len(UGV_path) - 1):\n",
    "        UGV_total_distance += compute_distance(UGV_path[i], UGV_path[i + 1])\n",
    "    return UGV_total_distance\n",
    "\n",
    "def calculate_UGV_outer_path_distances(UGV_outer_path):\n",
    "    UGV_outer_path_distances = []\n",
    "    for group in UGV_outer_path:\n",
    "        UGV_outer_path_distances.append(compute_distance(group[0], group[1]))\n",
    "    return UGV_outer_path_distances\n",
    "\n",
    "def calculate_UAV_inter_distances(UAV_path):\n",
    "    UAV_inter_distances = []\n",
    "    for group in UAV_path:\n",
    "        group_distance = 0\n",
    "        for i in range(len(group) - 1):\n",
    "            group_distance += compute_distance(group[i], group[i + 1])\n",
    "        UAV_inter_distances.append(group_distance)\n",
    "    return format_list_to_decimal(UAV_inter_distances)\n",
    "\n",
    "UGVdistances = []\n",
    "UAV_total_distances = []\n",
    "UAV_distances_set = []\n",
    "ordered_points = compute_ordered_points(plan_output, waypoints)\n",
    "result = []\n",
    "for radius_combination in product(radii, repeat=len(waypoints) - 1):\n",
    "    radius_set, UGV_path, UAV_path, UGV_outer_path, UGVD_inter_without_drone,UGVD_inter_with_drone,final_wait_time= compute_optimized_paths_for_radius_updated_v4(ordered_points, radius_combination, speed_ugv, speed_uav, survey_time)\n",
    "    \n",
    "    total_wait_time = calculate_total_wait_time(final_wait_time)\n",
    "    UGV_total_distance = calculate_UGV_total_distance(UGV_path, compute_distance)\n",
    "    UGV_outer_path_distances = calculate_UGV_outer_path_distances(UGV_outer_path)\n",
    "    \n",
    "    UGV_outer_path_E_cost = [distance * UGV_E_cost_with_UAV for distance in UGV_outer_path_distances]\n",
    "    total_time = total_wait_time + UGV_total_distance / speed_ugv\n",
    "\n",
    "    \n",
    "    UAV_inter_distances = calculate_UAV_inter_distances(UAV_path)\n",
    "    UAV_inter_distances = [float(distance) for distance in UAV_inter_distances]\n",
    "    UAV_inter_E_cost = [(distance * UAV_E_cost) + UAV_E_s_cost for distance in UAV_inter_distances]\n",
    "    UAV_distances_set = calculate_UAV_distances(UAV_path, compute_distance)\n",
    "\n",
    "    UGV_energy_remaining, UAV_energy_remaining = calculate_energy_remaining(Total_E_UGV, Total_E_UAV, UGV_outer_path_distances, UGVD_inter_with_drone, UAV_distances_set, UAV_path, UAV_E_cost, UAV_E_s_cost, UGVD_inter_without_drone, UGV_E_cost_without_UAV, Charging_speed)\n",
    "    \n",
    "    # print(f\"radius_combination:{radius_combination}\")\n",
    "    if UGV_energy_remaining == -1 or UAV_energy_remaining == -1:\n",
    "        \n",
    "        result.append((radius_set,None))\n",
    "    else:\n",
    "        result.append((radius_set,round(total_time,2)))\n",
    "        # print(radius_set)\n",
    "        # print(f\"UGV_energy_remaining:{UGV_energy_remaining:.2f}, UAV_energy_remaining:{UAV_energy_remaining:.2f}\")\n",
    "        # print(f\"total_time:{total_time:.2f} \\n\")\n"
   ]
  },
  {
   "cell_type": "code",
   "execution_count": 23,
   "metadata": {},
   "outputs": [
    {
     "data": {
      "text/plain": [
       "1395"
      ]
     },
     "execution_count": 23,
     "metadata": {},
     "output_type": "execute_result"
    }
   ],
   "source": [
    "novaild_plan = sum(1 for _, value in result if value is None)\n",
    "vaild_plan =  sum(1 for _, value in result if value is not None)\n",
    "vaild_plan"
   ]
  },
  {
   "cell_type": "code",
   "execution_count": 24,
   "metadata": {},
   "outputs": [
    {
     "data": {
      "text/plain": [
       "792"
      ]
     },
     "execution_count": 24,
     "metadata": {},
     "output_type": "execute_result"
    }
   ],
   "source": [
    "novaild_plan"
   ]
  },
  {
   "cell_type": "code",
   "execution_count": 25,
   "metadata": {},
   "outputs": [
    {
     "name": "stdout",
     "output_type": "stream",
     "text": [
      "min_time:([5.0, 5.0, 3.0, 1.0, 5.0, 1.0, 5.0], 13.03), max_time:([1.0, 1.0, 1.0, 1.0, 1.0, 1.0, 1.0], 14.97)\n"
     ]
    }
   ],
   "source": [
    "max_time = max(result, key=lambda x: float('-1') if x[1] is None else x[1])\n",
    "min_time = min(result, key=lambda x: float('inf') if x[1] is None else x[1])\n",
    "print(f\"min_time:{min_time}, max_time:{max_time}\")\n",
    "# min_time = ([5.0,5.0, 5.0, 3.0, 1.0, 5.0, 1.0], 13.03)"
   ]
  },
  {
   "cell_type": "code",
   "execution_count": 26,
   "metadata": {},
   "outputs": [
    {
     "name": "stdout",
     "output_type": "stream",
     "text": [
      "radius_combination = [5.0, 5.0, 3.0, 1.0, 5.0, 1.0, 5.0]\n",
      "radius_combination = [5.0, 5.0, 3.0, 1.0, 5.0, 1.0, 5.0]\n",
      "i = 1,point =(8, 8),current_radius = 5.0\n",
      "radius_combination = [5.0, 5.0, 3.0, 1.0, 5.0, 1.0, 5.0]\n",
      "i = 2,point =(0, 50),current_radius = 5.0\n",
      "radius_combination = [5.0, 5.0, 3.0, 1.0, 5.0, 1.0, 5.0]\n",
      "i = 3,point =(24, 37),current_radius = 3.0\n",
      "radius_combination = [5.0, 5.0, 3.0, 1.0, 5.0, 1.0, 5.0]\n",
      "i = 4,point =(30, 44),current_radius = 1.0\n",
      "radius_combination = [5.0, 5.0, 3.0, 1.0, 5.0, 1.0, 5.0]\n",
      "i = 5,point =(36, 43),current_radius = 5.0\n",
      "radius_combination = [5.0, 5.0, 3.0, 1.0, 5.0, 1.0, 5.0]\n",
      "i = 6,point =(32, 25),current_radius = 1.0\n",
      "radius_combination = [5.0, 5.0, 3.0, 1.0, 5.0, 1.0, 5.0]\n",
      "i = 7,point =(28, 4),current_radius = 5.0\n",
      "radius_combination = [5.0, 5.0, 3.0, 1.0, 5.0, 1.0, 5.0]\n"
     ]
    }
   ],
   "source": [
    "UGV_path, UAV_path, UGV_outer_path, UGVD_inter_without_drone,UGVD_inter_with_drone,final_wait_time= compute_optimized_paths_for_radius_updated_v3(ordered_points, min_time[0], speed_ugv, speed_uav, survey_time)"
   ]
  },
  {
   "cell_type": "code",
   "execution_count": 27,
   "metadata": {},
   "outputs": [
    {
     "data": {
      "image/png": "[encoded data removed]",
      "text/plain": [
       "<Figure size 720x720 with 1 Axes>"
      ]
     },
     "metadata": {
      "needs_background": "light"
     },
     "output_type": "display_data"
    }
   ],
   "source": [
    "from matplotlib.patches import FancyArrowPatch\n",
    "def plot_updated_paths_with_circles(UAV_path, UGV_outer_path, ordered_points, result):\n",
    "    fig, ax = plt.subplots(figsize=(10, 10))\n",
    "    time= result[1]\n",
    "    radius_combination = result[0]\n",
    "    # # Plot UAV_path\n",
    "    # for segment in UAV_path:\n",
    "    #     # print(segment[0],segment[-1])\n",
    "    #     ax.plot(*zip(segment[0],segment[-1]),'r--',label='UGV_alone')\n",
    "        \n",
    "    #     ax.plot(*zip(*segment), 'g--', label='UAV Path')\n",
    "    #     # ax.scatter(*zip(*segment), color='g', marker='o')\n",
    "    \n",
    "    # # Plot UGV_outer_path without connecting segments to each other\n",
    "    # for segment in UGV_outer_path:\n",
    "    #     ax.plot(*zip(*segment), 'b-', label='UGV Outer Path')\n",
    "\n",
    "        # ax.scatter(segment[0][0], segment[0][1], color='b', marker='x')  # Plotting start of the segment\n",
    "        # ax.scatter(segment[1][0], segment[1][1], color='b', marker='x')  # Plotting end of the segment\n",
    "    for index, segment in enumerate(UAV_path):\n",
    "    # Plot for UAV_path\n",
    "        ax.plot(*zip(segment[0], segment[-1]), 'r--', label='UGV_alone')\n",
    "        ax.plot(*zip(*segment), 'g--', label='UAV Path')\n",
    "        ax.scatter(*segment[-1], s=20, marker='o', facecolors='none', edgecolors='r', label='meeting_point')  # Plotting end of the segment\n",
    "        ax.plot(*zip(segment[-1],UGV_outer_path[index+1][0]), 'm-', label='UGV_with_UGV')\n",
    "        # Plot for UGV_outer_path\n",
    "        # ax.plot(*zip(*UGV_outer_path[index]), 'b-', label='UGV Outer Path')\n",
    "        line = ax.plot(*zip(*UGV_outer_path[index]), 'b-', label='UGV Outer Path')\n",
    "        start_point = UGV_outer_path[index][0]\n",
    "        end_point = UGV_outer_path[index][-1]\n",
    "        arrow = FancyArrowPatch(posA=start_point, posB=end_point, mutation_scale=15, arrowstyle=\"-|>\", color=\"b\")\n",
    "        ax.add_patch(arrow)\n",
    "    # Since UGV_outer_path has one more segment, plot the last segment of UGV_outer_path separately\n",
    "    ax.plot(*zip(*UGV_outer_path[-1]), 'b-', label='UGV Outer Path')\n",
    "    # Draw circles\n",
    "    for i, point in enumerate(ordered_points[:-1]):\n",
    "        \n",
    "        if 0 < i < len(ordered_points) - 2:\n",
    "            \n",
    "            current_radius = radius_combination[i-1]\n",
    "            ax.annotate(f\"R = {current_radius:.1f}\", (point[0] + 0.2, point[1] + 0.2))\n",
    "            draw_circle(ax, point, current_radius, color='b', linestyle='-')\n",
    "        \n",
    "    ax.scatter(*ordered_points[0], color='b', marker='x',label='Start')  # Plotting start of the segment \n",
    "    # Labels and Title\n",
    "    ax.set_title(f\"UAV and UGV Optomized Path, Total_T = {min_time[1]} h \")\n",
    "    ax.set_xlabel(\"X\")\n",
    "    ax.set_ylabel(\"Y\")\n",
    "    ax.grid(True)\n",
    "    \n",
    "    # Handling legends to avoid repetition\n",
    "    handles, labels = ax.get_legend_handles_labels()\n",
    "    unique_labels = list(dict.fromkeys(labels))\n",
    "    unique_handles = [handles[labels.index(lab)] for lab in unique_labels]\n",
    "    ax.legend(unique_handles, unique_labels, loc=\"best\")\n",
    "    ax.set_aspect('equal', adjustable='box')\n",
    "    plt.show()\n",
    "\n",
    "# Given ordered points\n",
    "\n",
    "\n",
    "# Plotting the updated paths with circles\n",
    "plot_updated_paths_with_circles(UAV_path, UGV_outer_path, ordered_points, min_time)\n"
   ]
  },
  {
   "cell_type": "code",
   "execution_count": 28,
   "metadata": {},
   "outputs": [
    {
     "data": {
      "text/plain": [
       "[5.0, 5.0, 3.0, 1.0, 5.0, 1.0, 5.0]"
      ]
     },
     "execution_count": 28,
     "metadata": {},
     "output_type": "execute_result"
    }
   ],
   "source": [
    "min_time[0]"
   ]
  }
 ],
 "metadata": {
  "kernelspec": {
   "display_name": "Python 3",
   "language": "python",
   "name": "python3"
  },
  "language_info": {
   "codemirror_mode": {
    "name": "ipython",
    "version": 3
   },
   "file_extension": ".py",
   "mimetype": "text/x-python",
   "name": "python",
   "nbconvert_exporter": "python",
   "pygments_lexer": "ipython3",
   "version": "3.10.6"
  },
  "orig_nbformat": 4
 },
 "nbformat": 4,
 "nbformat_minor": 2
}
